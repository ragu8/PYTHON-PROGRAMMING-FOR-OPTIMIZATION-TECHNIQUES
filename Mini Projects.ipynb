{
 "cells": [
  {
   "cell_type": "markdown",
   "metadata": {},
   "source": [
    "# Quiz Game "
   ]
  },
  {
   "cell_type": "code",
   "execution_count": null,
   "metadata": {},
   "outputs": [
    {
     "name": "stdout",
     "output_type": "stream",
     "text": [
      "Hello Welcome to quiz Game : \n"
     ]
    }
   ],
   "source": [
    "\n",
    "\n",
    "\n",
    "print(\"Hello Welcome to quiz Game : \")\n",
    "\n",
    "playing = input(\"Do you want to play? : (y/n) \")\n",
    "\n",
    "\n",
    "if playing != \"y\":\n",
    "    quit()\n",
    "    \n",
    "print(\"okay lets play :\")\n",
    "\n",
    "\n",
    "questions = [\n",
    "    (\"What is machine learning?\", \"b\", \n",
    "     \"a) A type of computer programming language\", \n",
    "     \"b) A field of artificial intelligence that enables computers to learn from data\", \n",
    "     \"c) A technique for storing and retrieving data efficiently\", \n",
    "     \"d) A method for securing computer networks\"),\n",
    "    \n",
    "    (\"Which of the following is NOT a type of machine learning?\", \"d\", \n",
    "     \"a) Supervised learning\", \n",
    "     \"b) Unsupervised learning\", \n",
    "     \"c) Reinforcement learning\", \n",
    "     \"d) Deterministic learning\"),\n",
    "    \n",
    "    (\"What is supervised learning?\", \"a\", \n",
    "     \"a) A type of machine learning where the model is trained on labeled data\", \n",
    "     \"b) A type of machine learning where the model learns from its environment through trial and error\", \n",
    "     \"c) A type of machine learning where the model learns from unstructured data\", \n",
    "     \"d) A type of machine learning where the model is not provided any feedback\"),\n",
    "    \n",
    "    (\"What is an example of unsupervised learning?\", \"c\", \n",
    "     \"a) Image classification\", \n",
    "     \"b) Spam detection\", \n",
    "     \"c) Clustering similar documents together\", \n",
    "     \"d) Playing a game against an opponent\"),\n",
    "    \n",
    "    (\"In reinforcement learning, what is a reward?\", \"b\", \n",
    "     \"a) The penalty for incorrect predictions\", \n",
    "     \"b) Feedback given to the model for taking correct actions\", \n",
    "     \"c) The cost of training the model\", \n",
    "     \"d) The loss function used to update the model parameters\"),\n",
    "    \n",
    "    (\"What is overfitting in machine learning?\", \"a\", \n",
    "     \"a) When a model learns to perform well on the training data but fails to generalize to new data\", \n",
    "     \"b) When a model fails to learn from the training data\", \n",
    "     \"c) When a model performs equally well on both training and testing data\", \n",
    "     \"d) When a model is too simple to capture the underlying patterns in the data\"),\n",
    "    \n",
    "    (\"What is underfitting in machine learning?\", \"b\", \n",
    "     \"a) When a model learns to perform well on the training data but fails to generalize to new data\", \n",
    "     \"b) When a model is too simple to capture the underlying patterns in the data\", \n",
    "     \"c) When a model performs equally well on both training and testing data\", \n",
    "     \"d) When a model fails to learn from the training data\"),\n",
    "    \n",
    "    (\"What is a hyperparameter in machine learning?\", \"c\", \n",
    "     \"a) The parameters of the model that are learned during training\", \n",
    "     \"b) The input features of the dataset\", \n",
    "     \"c) The parameters of the model that are set before training and control the learning process\", \n",
    "     \"d) The labels or outputs of the dataset\"),\n",
    "    \n",
    "    (\"What is cross-validation used for in machine learning?\", \"d\", \n",
    "     \"a) Training multiple models simultaneously\", \n",
    "     \"b) Testing a model on a separate dataset\", \n",
    "     \"c) Fine-tuning the hyperparameters of a model\", \n",
    "     \"d) Evaluating a model's performance and generalization ability\"),\n",
    "    \n",
    "    (\"What is the purpose of regularization in machine learning?\", \"a\", \n",
    "     \"a) To prevent overfitting by adding a penalty term to the loss function\", \n",
    "     \"b) To increase the complexity of the model\", \n",
    "     \"c) To decrease the complexity of the model\", \n",
    "     \"d) To speed up the training process\"),\n",
    "    \n",
    "    (\"What is the bias-variance tradeoff in machine learning?\", \"c\", \n",
    "     \"a) The tradeoff between model complexity and training time\", \n",
    "     \"b) The tradeoff between model performance and computational resources\", \n",
    "     \"c) The tradeoff between a model's bias and variance\", \n",
    "     \"d) The tradeoff between feature selection and feature engineering\"),\n",
    "    \n",
    "    (\"What is ensemble learning in machine learning?\", \"b\", \n",
    "     \"a) Training multiple models simultaneously\", \n",
    "     \"b) Combining the predictions of multiple models to improve performance\", \n",
    "     \"c) Evaluating the performance of a single model\", \n",
    "     \"d) Selecting the best features for the model\"),\n",
    "    \n",
    "    (\"What is bagging in ensemble learning?\", \"c\", \n",
    "     \"a) Combining the predictions of multiple models to improve performance\", \n",
    "     \"b) Training multiple models simultaneously\", \n",
    "     \"c) Generating multiple bootstrap samples from the training data and training a separate model on each sample\", \n",
    "     \"d) Selecting a subset of features randomly for each model\"),\n",
    "    \n",
    "    (\"What is boosting in ensemble learning?\", \"a\", \n",
    "     \"a) Training multiple weak learners sequentially and giving more weight to misclassified instances\", \n",
    "     \"b) Combining the predictions of multiple models to improve performance\", \n",
    "     \"c) Generating multiple bootstrap samples from the training data and training a separate model on each sample\", \n",
    "     \"d) Selecting a subset of features randomly for each model\"),\n",
    "    \n",
    "    (\"What is the purpose of feature scaling in machine learning?\", \"b\", \n",
    "     \"a) To increase the number of features in the dataset\", \n",
    "     \"b) To standardize the range of features and prevent some features from dominating others\", \n",
    "     \"c) To reduce the number of features in the dataset\", \n",
    "     \"d) To select the most important features for the model\"),\n",
    "    \n",
    "    (\"What is the difference between classification and regression?\", \"c\", \n",
    "     \"a) Classification predicts discrete labels, while regression predicts continuous values\", \n",
    "     \"b) Classification predicts continuous values, while regression predicts discrete labels\", \n",
    "     \"c) Classification predicts discrete labels, while regression predicts continuous values\", \n",
    "     \"d) Classification and regression are the same\"),\n",
    "    \n",
    "    (\"What is a confusion matrix used for in classification?\", \"a\", \n",
    "     \"a) To evaluate the performance of a classification model by comparing predicted and actual labels\", \n",
    "     \"b) To evaluate the performance of a regression model by comparing predicted and actual values\", \n",
    "     \"c) To visualize the relationships between features in the dataset\", \n",
    "     \"d) To select the most important features for the model\"),\n",
    "    \n",
    "    (\"What is precision in classification?\", \"b\", \n",
    "     \"a) The ratio of true positives to the total number of positive instances\", \n",
    "     \"b) The ratio of true positives to the total number of predicted positives\", \n",
    "     \"c) The ratio of true positives to the total number of actual positives\", \n",
    "     \"d) The ratio of true positives to the total number of instances\"),\n",
    "    \n",
    "    (\"What is recall in classification?\", \"c\", \n",
    "     \"a) The ratio of true positives to the total number of positive instances\", \n",
    "     \"b) The ratio of true positives to the total number of predicted positives\", \n",
    "     \"c) The ratio of true positives to the total number of actual positives\", \n",
    "     \"d) The ratio of true positives to the total number of instances\"),\n",
    "    \n",
    "    (\"What is F1-score in classification?\", \"d\", \n",
    "     \"a) The harmonic mean of precision and recall\", \n",
    "     \"b) The arithmetic mean of precision and recall\", \n",
    "     \"c) The geometric mean of precision and recall\", \n",
    "     \"d) The harmonic mean of precision and recall\"),\n",
    "]\n",
    "\n",
    "for i, (question, correct_answer, option_a, option_b, option_c, option_d) in enumerate(questions):\n",
    "    print(f\"\\n# Question {i}\")\n",
    "    print(question)\n",
    "    print(option_a)\n",
    "    print(option_b)\n",
    "    print(option_c)\n",
    "    print(option_d)\n",
    "\n",
    "    answer = input(\"Enter your answer: \").lower()\n",
    "\n",
    "    if answer == correct_answer:\n",
    "        print(\"Correct\")\n",
    "    else:\n",
    "        print(\"Incorrect\")\n"
   ]
  },
  {
   "cell_type": "code",
   "execution_count": 64,
   "metadata": {},
   "outputs": [],
   "source": [
    "numbers = [1, 2, 3, 4, 5]\n",
    "letters = [\"A\",\"B\",\"C\",\"D\",\"E\"]"
   ]
  },
  {
   "cell_type": "code",
   "execution_count": 65,
   "metadata": {},
   "outputs": [
    {
     "name": "stdout",
     "output_type": "stream",
     "text": [
      "[1, 4, 9, 16, 25]\n"
     ]
    }
   ],
   "source": [
    "# Map\n",
    "squared = map(lambda x: x**2, numbers)\n",
    "print(list(squared)) "
   ]
  },
  {
   "cell_type": "code",
   "execution_count": 73,
   "metadata": {},
   "outputs": [
    {
     "data": {
      "text/plain": [
       "[[10, 'A'], [11, 'B'], [12, 'C'], [13, 'D'], [14, 'E']]"
      ]
     },
     "execution_count": 73,
     "metadata": {},
     "output_type": "execute_result"
    }
   ],
   "source": [
    "#Enumerate\n",
    "enumerated = [[i,ele] for i,ele in enumerate(letters,start=10)]\n",
    "enumerated"
   ]
  },
  {
   "cell_type": "code",
   "execution_count": 77,
   "metadata": {},
   "outputs": [
    {
     "data": {
      "text/plain": [
       "[(1, 'A'), (2, 'B'), (3, 'C'), (4, 'D'), (5, 'E')]"
      ]
     },
     "execution_count": 77,
     "metadata": {},
     "output_type": "execute_result"
    }
   ],
   "source": [
    "# Zip\n",
    "Zipped = zip(numbers,letters)\n",
    "#print(list((Zipped)))\n",
    "\n",
    "# unzipping \n",
    "unzip = [(num,letter) for num,letter in Zipped]\n",
    "unzip"
   ]
  },
  {
   "cell_type": "code",
   "execution_count": 82,
   "metadata": {},
   "outputs": [
    {
     "name": "stdout",
     "output_type": "stream",
     "text": [
      "What is machine learning?\n",
      "Which of the following is NOT a type of machine learning?\n",
      "What is supervised learning?\n",
      "What is an example of unsupervised learning?\n",
      "In reinforcement learning, what is a reward?\n",
      "What is overfitting in machine learning?\n",
      "What is underfitting in machine learning?\n",
      "What is a hyperparameter in machine learning?\n",
      "What is cross-validation used for in machine learning?\n",
      "What is the purpose of regularization in machine learning?\n",
      "What is the bias-variance tradeoff in machine learning?\n",
      "What is ensemble learning in machine learning?\n",
      "What is bagging in ensemble learning?\n",
      "What is boosting in ensemble learning?\n",
      "What is the purpose of feature scaling in machine learning?\n",
      "What is the difference between classification and regression?\n",
      "What is a confusion matrix used for in classification?\n",
      "What is precision in classification?\n",
      "What is recall in classification?\n",
      "What is F1-score in classification?\n"
     ]
    }
   ],
   "source": [
    "for i,(Question,Answer,option_a,option_b,option_c,option_d) in enumerate(questions,1):\n",
    "    print(Question)"
   ]
  },
  {
   "cell_type": "code",
   "execution_count": 17,
   "metadata": {},
   "outputs": [
    {
     "data": {
      "text/plain": [
       "{1: 1, 2: 4, 3: 9}"
      ]
     },
     "execution_count": 17,
     "metadata": {},
     "output_type": "execute_result"
    }
   ],
   "source": [
    "Data = {\"a\":1,\"b\":2,\"c\":3}\n",
    "squared_data = dict(map(lambda item:(item[1],item[1]**2),Data.items()))\n",
    "squared_data"
   ]
  },
  {
   "cell_type": "code",
   "execution_count": 20,
   "metadata": {},
   "outputs": [
    {
     "data": {
      "text/plain": [
       "{'a': 1, 'b': 2, 'c': 3}"
      ]
     },
     "execution_count": 20,
     "metadata": {},
     "output_type": "execute_result"
    }
   ],
   "source": [
    "# zip\n",
    "\n",
    "keys = [\"a\",\"b\",\"c\"]\n",
    "values = [1,2,3]\n",
    "zipped = dict(zip(keys,values))\n",
    "data"
   ]
  },
  {
   "cell_type": "code",
   "execution_count": 24,
   "metadata": {},
   "outputs": [
    {
     "data": {
      "text/plain": [
       "{1: 'a', 2: 'b', 3: 'c'}"
      ]
     },
     "execution_count": 24,
     "metadata": {},
     "output_type": "execute_result"
    }
   ],
   "source": [
    "#Enumerate\n",
    "data = dict(enumerate(keys,start=1))\n",
    "data\n"
   ]
  },
  {
   "cell_type": "code",
   "execution_count": 28,
   "metadata": {},
   "outputs": [
    {
     "data": {
      "text/plain": [
       "{1: (1, 6), 2: (2, 7), 3: (3, 8), 4: (4, 9)}"
      ]
     },
     "execution_count": 28,
     "metadata": {},
     "output_type": "execute_result"
    }
   ],
   "source": [
    "# zip & enumerate  list to dict\n",
    "lst1 = [1,2,3,4]\n",
    "lst2 = [6,7,8,9]\n",
    "data = dict(enumerate(zip(lst1,lst2),start=1))\n",
    "data"
   ]
  },
  {
   "cell_type": "code",
   "execution_count": null,
   "metadata": {},
   "outputs": [],
   "source": []
  }
 ],
 "metadata": {
  "kernelspec": {
   "display_name": "Python 3",
   "language": "python",
   "name": "python3"
  },
  "language_info": {
   "codemirror_mode": {
    "name": "ipython",
    "version": 3
   },
   "file_extension": ".py",
   "mimetype": "text/x-python",
   "name": "python",
   "nbconvert_exporter": "python",
   "pygments_lexer": "ipython3",
   "version": "3.8.5"
  }
 },
 "nbformat": 4,
 "nbformat_minor": 4
}
