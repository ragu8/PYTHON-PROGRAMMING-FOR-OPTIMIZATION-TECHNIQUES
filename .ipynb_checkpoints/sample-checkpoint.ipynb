{
 "cells": [
  {
   "cell_type": "code",
   "execution_count": null,
   "metadata": {},
   "outputs": [],
   "source": [
    "msg=\"hello Iam yogesh\"\n",
    "print(msg)"
   ]
  },
  {
   "cell_type": "code",
   "execution_count": null,
   "metadata": {},
   "outputs": [],
   "source": [
    "print(type(msg))"
   ]
  },
  {
   "cell_type": "code",
   "execution_count": null,
   "metadata": {},
   "outputs": [],
   "source": [
    "print(msg.title())"
   ]
  },
  {
   "cell_type": "code",
   "execution_count": null,
   "metadata": {},
   "outputs": [],
   "source": [
    "print(name.upper())\n",
    "print(name.lower()) #method"
   ]
  },
  {
   "cell_type": "code",
   "execution_count": null,
   "metadata": {},
   "outputs": [],
   "source": [
    "print(msg.upper())\n",
    "print(msg.lower())"
   ]
  },
  {
   "cell_type": "code",
   "execution_count": null,
   "metadata": {},
   "outputs": [],
   "source": [
    "# string concatenation\n",
    "first_name=\"sathiya\"\n",
    "second_name=\"priya\"\n",
    "full_name=first_name+second_name\n",
    "full_name=first_name+ \" \"+second_name\n",
    "print(full_name)"
   ]
  },
  {
   "cell_type": "code",
   "execution_count": null,
   "metadata": {},
   "outputs": [],
   "source": [
    "print(full_name.title())"
   ]
  },
  {
   "cell_type": "code",
   "execution_count": null,
   "metadata": {},
   "outputs": [],
   "source": [
    "#whitespace,tabs,newlines\n",
    "print(\"languages:\\n\\tpython\\n\\tjava\\n\\tc\\n\\tcpp\\n\\tsql\\n\\thtml\")"
   ]
  },
  {
   "cell_type": "code",
   "execution_count": null,
   "metadata": {},
   "outputs": [],
   "source": []
  },
  {
   "cell_type": "code",
   "execution_count": null,
   "metadata": {},
   "outputs": [],
   "source": [
    "a=2\n",
    "a=a+3\n",
    "print(a)"
   ]
  },
  {
   "cell_type": "code",
   "execution_count": null,
   "metadata": {},
   "outputs": [],
   "source": [
    "a=\"5\"\n",
    "b=10\n",
    "print(a+b)"
   ]
  },
  {
   "cell_type": "code",
   "execution_count": null,
   "metadata": {},
   "outputs": [],
   "source": [
    "int a=\"5\"\n",
    "b=10\n",
    "print(a+b)"
   ]
  },
  {
   "cell_type": "code",
   "execution_count": null,
   "metadata": {},
   "outputs": [],
   "source": []
  },
  {
   "cell_type": "code",
   "execution_count": null,
   "metadata": {},
   "outputs": [],
   "source": [
    "#type casting\n",
    "a=\"5\"\n",
    "b=10\n",
    "print(int(a)+b)\n"
   ]
  },
  {
   "cell_type": "code",
   "execution_count": null,
   "metadata": {},
   "outputs": [],
   "source": [
    "a=5\n",
    "print(type(a))"
   ]
  },
  {
   "cell_type": "code",
   "execution_count": null,
   "metadata": {},
   "outputs": [],
   "source": [
    "a=5.9999\n",
    "print(type(a))"
   ]
  },
  {
   "cell_type": "code",
   "execution_count": null,
   "metadata": {},
   "outputs": [],
   "source": [
    "   #operators\n",
    "x=20\n",
    "y=4\n",
    "print(x/y)\n",
    "print(x//y) #quotient\n",
    "print(x%y)  #remainder"
   ]
  },
  {
   "cell_type": "code",
   "execution_count": null,
   "metadata": {},
   "outputs": [],
   "source": [
    "x=5\n",
    "y=3\n",
    "x,y=y,x\n",
    "print(x,y)"
   ]
  },
  {
   "cell_type": "code",
   "execution_count": null,
   "metadata": {},
   "outputs": [],
   "source": [
    "x=5\n",
    "y=3\n",
    "tmp=x\n",
    "x=y\n",
    "y=x\n",
    "\n",
    "print(x,y)\n"
   ]
  },
  {
   "cell_type": "code",
   "execution_count": null,
   "metadata": {},
   "outputs": [],
   "source": [
    "#lists\n",
    "name=[\"priya\",\"nithyaRagu\",\"renu\",\"ram\",\"shanu\"]\n",
    "print(name)"
   ]
  },
  {
   "cell_type": "code",
   "execution_count": null,
   "metadata": {},
   "outputs": [],
   "source": [
    "print(name[0:2])"
   ]
  },
  {
   "cell_type": "code",
   "execution_count": null,
   "metadata": {},
   "outputs": [],
   "source": [
    "print(name[1::])"
   ]
  },
  {
   "cell_type": "code",
   "execution_count": null,
   "metadata": {},
   "outputs": [],
   "source": [
    "print(name[2:5:1])"
   ]
  },
  {
   "cell_type": "code",
   "execution_count": null,
   "metadata": {},
   "outputs": [],
   "source": [
    "print(name[::2])"
   ]
  },
  {
   "cell_type": "code",
   "execution_count": null,
   "metadata": {},
   "outputs": [],
   "source": [
    "a_list=[1,4,20,56,23,\"hello\",6.9,\"python\",80]\n",
    "print(a_list)\n",
    "a_list.reverse()\n",
    "print(a_list)"
   ]
  },
  {
   "cell_type": "code",
   "execution_count": null,
   "metadata": {},
   "outputs": [],
   "source": [
    "a_list.sort()"
   ]
  },
  {
   "cell_type": "code",
   "execution_count": null,
   "metadata": {},
   "outputs": [],
   "source": [
    "name.sort()\n",
    "print(name)\n"
   ]
  },
  {
   "cell_type": "code",
   "execution_count": null,
   "metadata": {},
   "outputs": [],
   "source": [
    "name.remove(name[4])\n",
    "print(name)"
   ]
  },
  {
   "cell_type": "code",
   "execution_count": null,
   "metadata": {},
   "outputs": [],
   "source": [
    "name.remove(4)\n",
    "print(name)"
   ]
  },
  {
   "cell_type": "code",
   "execution_count": null,
   "metadata": {},
   "outputs": [],
   "source": [
    "name.remove(ram)\n",
    "print(name)"
   ]
  },
  {
   "cell_type": "code",
   "execution_count": null,
   "metadata": {},
   "outputs": [],
   "source": [
    "name.remove(\"ram\")\n",
    "print(name)"
   ]
  },
  {
   "cell_type": "code",
   "execution_count": null,
   "metadata": {},
   "outputs": [],
   "source": [
    "name.remove(\"ram\")\n",
    "print(name)\n"
   ]
  },
  {
   "cell_type": "code",
   "execution_count": null,
   "metadata": {},
   "outputs": [],
   "source": [
    "b_list=[23,34,56,67,12,59,70,41,93,80,33]\n",
    "print(b_list)"
   ]
  },
  {
   "cell_type": "code",
   "execution_count": null,
   "metadata": {},
   "outputs": [],
   "source": [
    "print(b_list.reverse())"
   ]
  },
  {
   "cell_type": "code",
   "execution_count": null,
   "metadata": {},
   "outputs": [],
   "source": [
    "b_list.reverse()\n",
    "print(b_list)"
   ]
  },
  {
   "cell_type": "code",
   "execution_count": null,
   "metadata": {},
   "outputs": [],
   "source": [
    "b_list.reverse()\n",
    "print(b_list)"
   ]
  },
  {
   "cell_type": "code",
   "execution_count": null,
   "metadata": {},
   "outputs": [],
   "source": [
    "b_list.remove(67)\n",
    "print(b_list)"
   ]
  },
  {
   "cell_type": "code",
   "execution_count": null,
   "metadata": {},
   "outputs": [],
   "source": [
    "b_list.append(10)\n",
    "print(b_list)"
   ]
  },
  {
   "cell_type": "code",
   "execution_count": null,
   "metadata": {},
   "outputs": [],
   "source": [
    "b_list.insert(0,1)\n",
    "print(b_list)"
   ]
  },
  {
   "cell_type": "code",
   "execution_count": null,
   "metadata": {},
   "outputs": [],
   "source": [
    "b_list.remove(10)\n",
    "print(b_list)"
   ]
  },
  {
   "cell_type": "code",
   "execution_count": null,
   "metadata": {},
   "outputs": [],
   "source": [
    "b_list.insert(2,11)\n",
    "print(b_list)"
   ]
  },
  {
   "cell_type": "code",
   "execution_count": null,
   "metadata": {},
   "outputs": [],
   "source": [
    "b_list.remove(b_list[2])\n",
    "print(b_list)"
   ]
  },
  {
   "cell_type": "markdown",
   "metadata": {},
   "source": [
    "Write a program to print the numbers divisible by 7 and lying between the given limits."
   ]
  },
  {
   "cell_type": "code",
   "execution_count": null,
   "metadata": {},
   "outputs": [],
   "source": [
    "start=10\n",
    "end=20\n",
    "for limit in range(start,end+1):\n",
    "    print(limit)"
   ]
  },
  {
   "cell_type": "code",
   "execution_count": null,
   "metadata": {},
   "outputs": [],
   "source": [
    "start,end=5,30\n",
    "for limit in range(start,end+1):\n",
    "    if limit %7==0:\n",
    "        print(limit)"
   ]
  },
  {
   "cell_type": "code",
   "execution_count": null,
   "metadata": {},
   "outputs": [],
   "source": [
    "def div_7(start,end):\n",
    "    for limit in range(start,end+1):\n",
    "        if limit %3==0 and limit %5==0:\n",
    "            print(f\"{limit} is divisible by three & five\")\n",
    "        elif limit %3==0:\n",
    "            print(f\"{limit} is divisible by Three\")\n",
    "        elif limit %5==0:\n",
    "            print(f\"{limit} is divisible by Five\")"
   ]
  },
  {
   "cell_type": "code",
   "execution_count": null,
   "metadata": {},
   "outputs": [],
   "source": [
    "start=int(input(\"Enter starting value\"))\n",
    "end=int(input(\"Enter end value\"))\n",
    "div_7(start,end)"
   ]
  },
  {
   "cell_type": "markdown",
   "metadata": {},
   "source": [
    "*****\n",
    "*   *\n",
    "*   *\n",
    "*   *\n",
    "*****"
   ]
  },
  {
   "cell_type": "code",
   "execution_count": null,
   "metadata": {},
   "outputs": [],
   "source": [
    "\n",
    "for i in range(1,row+1):\n",
    "    for j in range(1,column+1):\n",
    "        if i==1 or i==row or j==1 or j==column:\n",
    "            print(\"*\",end=\"\")\n",
    "        else :\n",
    "            print(\" \",end=\"\")\n",
    "    print()"
   ]
  },
  {
   "cell_type": "code",
   "execution_count": null,
   "metadata": {},
   "outputs": [],
   "source": [
    "def hollow():\n",
    "    row=int(input(\"Enter the no of rows\"))\n",
    "    column=int(input(\"Enter th no of columns\"))\n",
    "    for i in range(1,row+1):\n",
    "        for j in range(1,column+1):\n",
    "            if i==1 or i==row or j==1 or j==column:\n",
    "                print(\"*\",end=\"\")\n",
    "            else :\n",
    "                print(\" \",end=\"\")\n",
    "        print()\n",
    "            \n",
    "        \n",
    "    "
   ]
  },
  {
   "cell_type": "code",
   "execution_count": null,
   "metadata": {},
   "outputs": [],
   "source": [
    "hollow()"
   ]
  },
  {
   "cell_type": "code",
   "execution_count": null,
   "metadata": {},
   "outputs": [],
   "source": [
    "sq=[]\n",
    "for i in range(1,10):\n",
    "    square=i**2\n",
    "    sq.append(square)\n",
    "print(sq)"
   ]
  },
  {
   "cell_type": "code",
   "execution_count": null,
   "metadata": {},
   "outputs": [],
   "source": [
    "sq=[i**2 for i in range(1,10)]\n",
    "print(sq)"
   ]
  },
  {
   "cell_type": "code",
   "execution_count": null,
   "metadata": {},
   "outputs": [],
   "source": [
    "for i in range(1,21):\n",
    "    print(i)"
   ]
  },
  {
   "cell_type": "code",
   "execution_count": null,
   "metadata": {},
   "outputs": [],
   "source": [
    "num=[i for i in range(1,10000)]\n",
    "print(num)\n"
   ]
  },
  {
   "cell_type": "code",
   "execution_count": null,
   "metadata": {},
   "outputs": [],
   "source": [
    "num=[]\n",
    "for i in range(1,1000):\n",
    "    num.append(i)\n",
    "print(max(num))"
   ]
  },
  {
   "cell_type": "code",
   "execution_count": null,
   "metadata": {},
   "outputs": [],
   "source": [
    "num=list(range(1,10))\n",
    "for i in range:\n",
    "    print(i)"
   ]
  },
  {
   "cell_type": "code",
   "execution_count": null,
   "metadata": {},
   "outputs": [],
   "source": [
    "odd_num=list(range(1,21,2))\n",
    "print(sum(odd_num))\n",
    "eve_num=list(range(2,22,2))\n",
    "print(eve_num)"
   ]
  },
  {
   "cell_type": "code",
   "execution_count": null,
   "metadata": {},
   "outputs": [],
   "source": [
    "def sum_odd_even(n):\n",
    "    odd,even=0,0\n",
    "    for i in range(1,n+1):\n",
    "        if i%2==0:\n",
    "            even=even+i #even +=i\n",
    "            print(i)\n",
    "            print(even)\n",
    "        else:\n",
    "            odd +=i\n",
    "    return f\"sum of odd={odd} sum of even={even}\"\n",
    "sum_odd_even(10)\n"
   ]
  },
  {
   "cell_type": "code",
   "execution_count": null,
   "metadata": {},
   "outputs": [],
   "source": [
    "flag=False\n",
    "number=11\n",
    "for i in range(2,number):\n",
    "    if number%i==0:\n",
    "        print(i)\n",
    "        flag=True\n",
    "if flag:\n",
    "    print(f\"{number} is not a prime\")\n",
    "else:\n",
    "    print(f\"{number} is prime\")"
   ]
  },
  {
   "cell_type": "code",
   "execution_count": null,
   "metadata": {},
   "outputs": [],
   "source": [
    "def sum_of_odd(n):\n",
    "    odd=0\n",
    "    for i in range(1,n,2):\n",
    "        odd +=i #odd=odd+i\n",
    "    return odd\n",
    "        "
   ]
  },
  {
   "cell_type": "code",
   "execution_count": null,
   "metadata": {},
   "outputs": [],
   "source": [
    "sum_of_odd(20)"
   ]
  },
  {
   "cell_type": "code",
   "execution_count": null,
   "metadata": {},
   "outputs": [],
   "source": [
    "1+3-5+7-9.....n"
   ]
  },
  {
   "cell_type": "code",
   "execution_count": null,
   "metadata": {},
   "outputs": [],
   "source": [
    "def sum_of_odd(n):\n",
    "    sign=1\n",
    "    odd=1\n",
    "    for i in range(3,n,2):\n",
    "        odd +=sign*i #odd=odd+i\n",
    "        sign=-1\n",
    "    return odd\n",
    "        "
   ]
  },
  {
   "cell_type": "code",
   "execution_count": null,
   "metadata": {},
   "outputs": [],
   "source": [
    "sum_of_odd(12)"
   ]
  },
  {
   "cell_type": "code",
   "execution_count": null,
   "metadata": {},
   "outputs": [],
   "source": [
    "def palindrome(n):\n",
    "    if n==n[::-1]:\n",
    "        print(\"palindrome\")\n",
    "    else:\n",
    "        print(\"Not a palindrome\")"
   ]
  },
  {
   "cell_type": "code",
   "execution_count": null,
   "metadata": {},
   "outputs": [],
   "source": [
    "palindrome(\"madam\")"
   ]
  },
  {
   "cell_type": "code",
   "execution_count": null,
   "metadata": {},
   "outputs": [],
   "source": [
    "n=\"apple\"\n",
    "n[::-1]"
   ]
  },
  {
   "cell_type": "code",
   "execution_count": null,
   "metadata": {},
   "outputs": [],
   "source": [
    "n==n[::-1]"
   ]
  },
  {
   "cell_type": "code",
   "execution_count": null,
   "metadata": {},
   "outputs": [],
   "source": [
    "n.reverse()"
   ]
  },
  {
   "cell_type": "code",
   "execution_count": null,
   "metadata": {},
   "outputs": [],
   "source": [
    "reversed(n)"
   ]
  },
  {
   "cell_type": "code",
   "execution_count": null,
   "metadata": {},
   "outputs": [],
   "source": [
    "n=\"apple\"\n",
    "rev=\"\".join(reversed(n))\n",
    "print(rev)\n",
    "    "
   ]
  },
  {
   "cell_type": "code",
   "execution_count": null,
   "metadata": {},
   "outputs": [],
   "source": [
    "def is_prime(num):\n",
    "    if num<2:\n",
    "        return False\n",
    "    for i in range(2,num):\n",
    "        if num%i==0:\n",
    "            return False\n",
    "    return True"
   ]
  },
  {
   "cell_type": "code",
   "execution_count": null,
   "metadata": {},
   "outputs": [],
   "source": [
    "is_prime(2)"
   ]
  },
  {
   "cell_type": "code",
   "execution_count": null,
   "metadata": {},
   "outputs": [],
   "source": [
    "def next_prime(num):\n",
    "    num=num-1\n",
    "    prime_check=is_prime(num)\n",
    "    print(prime_check)\n",
    "    if prime_check:\n",
    "        print(f\"{num} is prime\" )\n",
    "    else:\n",
    "        print(f\"{num} is not prime\")"
   ]
  },
  {
   "cell_type": "code",
   "execution_count": null,
   "metadata": {},
   "outputs": [],
   "source": [
    "next_prime(10)"
   ]
  },
  {
   "cell_type": "code",
   "execution_count": null,
   "metadata": {},
   "outputs": [],
   "source": [
    "for i in range(10,100):\n",
    "    print(f\"{i}={is_prime(i)}\")"
   ]
  },
  {
   "cell_type": "markdown",
   "metadata": {},
   "source": [
    "# try some code bro"
   ]
  },
  {
   "cell_type": "markdown",
   "metadata": {},
   "source": [
    "# Necessary\n",
    "\n",
    "if a function f(x) continous unvariate is defined in the interval a<=x<=b and  has a relative minimum at x=x*\n",
    "where a<x*<b and  dervivate df/dx =f`(x) exists as a finite number a E x=x* then f`(x*)=0"
   ]
  },
  {
   "cell_type": "code",
   "execution_count": 1,
   "metadata": {},
   "outputs": [],
   "source": [
    "# Sufficient \n",
    "\n"
   ]
  },
  {
   "cell_type": "code",
   "execution_count": 36,
   "metadata": {},
   "outputs": [],
   "source": [
    "a = [[2, 4, 6], [2, 4, 6], [2, 4, 6]]\n",
    "b = [[2, 2, 6], [12, 4, 6], [2, 4, 5]]\n",
    "\n",
    "c = [[0,0,0],[0,0,0],[0,0,0]]"
   ]
  },
  {
   "cell_type": "code",
   "execution_count": 37,
   "metadata": {},
   "outputs": [
    {
     "name": "stdout",
     "output_type": "stream",
     "text": [
      "[[4, 6, 12], [14, 8, 12], [4, 8, 11]]\n"
     ]
    }
   ],
   "source": [
    "\n",
    "# not optium\n",
    "\n",
    "for i in range(len(a)):\n",
    "    for j in range(len(b)):\n",
    "        c[i][j] = a[i][j] + b[i][j]\n",
    "print(c)"
   ]
  },
  {
   "cell_type": "code",
   "execution_count": 38,
   "metadata": {},
   "outputs": [
    {
     "data": {
      "text/plain": [
       "[[4, 6, 12], [14, 8, 12], [4, 8, 11]]"
      ]
     },
     "execution_count": 38,
     "metadata": {},
     "output_type": "execute_result"
    }
   ],
   "source": [
    "# optium but not better code \n",
    "result = [[a[i][j] + b[i][j]  for j in range(len(a[0]))] for i in range(len(b))]\n",
    "result"
   ]
  },
  {
   "cell_type": "code",
   "execution_count": 42,
   "metadata": {},
   "outputs": [],
   "source": [
    "# Good code\n",
    "def matrix_add(a,b):\n",
    "    if np.shape(a) == np.shape(b):\n",
    "        return [[a[i][j]+ b[i][j] for j in range(len(a[0]))] for i in range(len(b))]\n",
    "    else:\n",
    "        print(f\"matrix shape = {np.shape(a)}\")\n",
    "        print(f\"matrix shape = {np.shape(b)}\")"
   ]
  },
  {
   "cell_type": "code",
   "execution_count": 40,
   "metadata": {},
   "outputs": [
    {
     "data": {
      "application/javascript": [
       "\n",
       "        if (window._pyforest_update_imports_cell) { window._pyforest_update_imports_cell('import numpy as np'); }\n",
       "    "
      ],
      "text/plain": [
       "<IPython.core.display.Javascript object>"
      ]
     },
     "metadata": {},
     "output_type": "display_data"
    },
    {
     "data": {
      "application/javascript": [
       "\n",
       "        if (window._pyforest_update_imports_cell) { window._pyforest_update_imports_cell('import numpy as np'); }\n",
       "    "
      ],
      "text/plain": [
       "<IPython.core.display.Javascript object>"
      ]
     },
     "metadata": {},
     "output_type": "display_data"
    },
    {
     "data": {
      "text/plain": [
       "[[4, 6, 12], [14, 8, 12], [4, 8, 11]]"
      ]
     },
     "execution_count": 40,
     "metadata": {},
     "output_type": "execute_result"
    }
   ],
   "source": [
    "matrix_add(a,b)"
   ]
  },
  {
   "cell_type": "code",
   "execution_count": 45,
   "metadata": {},
   "outputs": [
    {
     "data": {
      "text/plain": [
       "[[64, 44, 66], [64, 44, 66], [64, 44, 66]]"
      ]
     },
     "execution_count": 45,
     "metadata": {},
     "output_type": "execute_result"
    }
   ],
   "source": [
    "## most optium\n",
    "\n",
    "results = [[sum(i * j for i, j in zip(r, c)) for c in zip(*b)] for r in a]\n",
    "\n",
    "results\n"
   ]
  },
  {
   "cell_type": "code",
   "execution_count": 80,
   "metadata": {},
   "outputs": [
    {
     "name": "stdout",
     "output_type": "stream",
     "text": [
      "[[4, 6, 12], [14, 8, 12], [4, 8, 11]]\n",
      "0.0004105567932128906\n"
     ]
    }
   ],
   "source": [
    "#compare (time)\n",
    "\n",
    "import time\n",
    "\n",
    "start_time = time.time()\n",
    "\n",
    "for i in range(len(a)):\n",
    "    for j in range(len(b)):\n",
    "        c[i][j] = a[i][j] + b[i][j]\n",
    "print(c)\n",
    "\n",
    "end_time = time.time()\n",
    "\n",
    "\n",
    "\n",
    "print(end_time-start_time)\n"
   ]
  },
  {
   "cell_type": "code",
   "execution_count": 81,
   "metadata": {},
   "outputs": [
    {
     "name": "stdout",
     "output_type": "stream",
     "text": [
      "[[4, 6, 12], [14, 8, 12], [4, 8, 11]]\n",
      "0.00043892860412597656\n"
     ]
    }
   ],
   "source": [
    "start_time = time.time()\n",
    "\n",
    "result = [[a[i][j] + b[i][j]  for j in range(len(a[0]))] for i in range(len(b))]\n",
    "print(result)\n",
    "\n",
    "end_time = time.time()\n",
    "\n",
    "\n",
    "\n",
    "print(end_time-start_time)\n"
   ]
  },
  {
   "cell_type": "code",
   "execution_count": 90,
   "metadata": {},
   "outputs": [],
   "source": [
    "def welcome():\n",
    "    enter_exit = input(\"Are you like to play (y/n) : \")\n",
    "    if enter_exit == 'n':\n",
    "        return \"The End\"\n",
    "    elif enter_exit== 'y':\n",
    "        pass\n",
    "    \n",
    "    else:\n",
    "        welcome()"
   ]
  },
  {
   "cell_type": "code",
   "execution_count": 109,
   "metadata": {},
   "outputs": [],
   "source": [
    "def user_input():\n",
    "    user_choice = input(\"Welcome to Game : Rock - R | paper -P | scissors -S | exit E : \").lower()      \n",
    "    if user_choice == 'e':\n",
    "        return \"The End\"\n",
    "    elif user_choice == 'r' or user_choice == 'p' or user_choice == 's':\n",
    "        return user_choice    \n",
    "    else:\n",
    "        user_input()\n",
    "    "
   ]
  },
  {
   "cell_type": "code",
   "execution_count": 92,
   "metadata": {},
   "outputs": [],
   "source": [
    "def computer_gen():\n",
    "    lst = [\"r\",\"p\",\"s\"]\n",
    "    return random.choice(lst)"
   ]
  },
  {
   "cell_type": "code",
   "execution_count": 115,
   "metadata": {},
   "outputs": [],
   "source": [
    "def compare(user_choice,computer_choice):\n",
    "    computer_score = 0\n",
    "    user_score = 0\n",
    "    \n",
    "    if user_choice == computer_choice:\n",
    "        print(\"It's a tie!\")        \n",
    "\n",
    "    elif user_choice == \"Rock\" and computer_choice == \"Scissors\":\n",
    "        user_score +=1\n",
    "        print(\"You win!\")\n",
    "\n",
    "    elif user_choice == \"Paper\" and computer_choice == \"Rock\":\n",
    "        user_score +=1\n",
    "        print(\"You win!\")\n",
    "\n",
    "    elif user_choice == \"Scissors\" and computer_choice == \"Paper\":\n",
    "        user_score +=1\n",
    "        print(\"You win!\")\n",
    "\n",
    "    else:\n",
    "        computer_score +=1\n",
    "        print(\"Computer wins!\")\n",
    "        \n",
    "    return computer_score,user_score"
   ]
  },
  {
   "cell_type": "code",
   "execution_count": 118,
   "metadata": {},
   "outputs": [],
   "source": [
    "def Start():\n",
    "    welcome()\n",
    "    computer_choice = computer_gen()\n",
    "    user_choice  = user_input()\n",
    "    computer_score , user_score = compare(user_choice,computer_choice)\n",
    "    print(f\"computer_score : {computer_score}\")\n",
    "    print(f\"user_score : {user_score}\")\n",
    "    "
   ]
  },
  {
   "cell_type": "code",
   "execution_count": 119,
   "metadata": {},
   "outputs": [
    {
     "name": "stdin",
     "output_type": "stream",
     "text": [
      "Are you like to play (y/n) :  y\n",
      "Welcome to Game : Rock - R | paper -P | scissors -S | exit E r\n"
     ]
    },
    {
     "name": "stdout",
     "output_type": "stream",
     "text": [
      "Computer wins!\n",
      "computer_score : 1\n",
      "user_score : 0\n"
     ]
    }
   ],
   "source": [
    "Start()"
   ]
  },
  {
   "cell_type": "code",
   "execution_count": null,
   "metadata": {},
   "outputs": [],
   "source": []
  }
 ],
 "metadata": {
  "kernelspec": {
   "display_name": "Python 3",
   "language": "python",
   "name": "python3"
  },
  "language_info": {
   "codemirror_mode": {
    "name": "ipython",
    "version": 3
   },
   "file_extension": ".py",
   "mimetype": "text/x-python",
   "name": "python",
   "nbconvert_exporter": "python",
   "pygments_lexer": "ipython3",
   "version": "3.8.5"
  }
 },
 "nbformat": 4,
 "nbformat_minor": 4
}
