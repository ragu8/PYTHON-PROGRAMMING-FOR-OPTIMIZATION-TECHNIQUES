{
 "cells": [
  {
   "cell_type": "markdown",
   "metadata": {},
   "source": [
    "# Python Code Optimization\n",
    "\n",
    "## Profiling\n",
    "- Timer\n",
    "- cProfile\n",
    "- Line Profile"
   ]
  },
  {
   "cell_type": "code",
   "execution_count": 2,
   "metadata": {},
   "outputs": [],
   "source": [
    "def sample():\n",
    "    a = 10\n",
    "    b = 12\n",
    "    c = a + b\n",
    "    d = a * b\n",
    "    e = c/d\n",
    "    return e\n",
    "\n",
    "def sample_optium():\n",
    "    a = 10\n",
    "    b = 12\n",
    "    e = (a+b)/(a*b)\n",
    "    return e "
   ]
  },
  {
   "cell_type": "code",
   "execution_count": 5,
   "metadata": {},
   "outputs": [
    {
     "name": "stdout",
     "output_type": "stream",
     "text": [
      "TIme Conused for sample : 5.030632019042969e-05\n",
      "Time Conused for sample_optium : 4.57763671875e-05\n"
     ]
    }
   ],
   "source": [
    "# Timer\n",
    "import time\n",
    "\n",
    "start_time = time.time()\n",
    "sample()\n",
    "end_time = time.time()\n",
    "print(f\"TIme Conused for sample : {end_time-start_time}\")\n",
    "\n",
    "\n",
    "start_time = time.time()\n",
    "sample_optium()\n",
    "end_time = time.time()\n",
    "print(f\"Time Conused for sample_optium : {end_time - start_time}\")\n"
   ]
  },
  {
   "cell_type": "code",
   "execution_count": 8,
   "metadata": {},
   "outputs": [
    {
     "name": "stdout",
     "output_type": "stream",
     "text": [
      "         4 function calls in 0.000 seconds\n",
      "\n",
      "   Ordered by: standard name\n",
      "\n",
      "   ncalls  tottime  percall  cumtime  percall filename:lineno(function)\n",
      "        1    0.000    0.000    0.000    0.000 <ipython-input-2-9b8ac80b9d6c>:1(sample)\n",
      "        1    0.000    0.000    0.000    0.000 <string>:1(<module>)\n",
      "        1    0.000    0.000    0.000    0.000 {built-in method builtins.exec}\n",
      "        1    0.000    0.000    0.000    0.000 {method 'disable' of '_lsprof.Profiler' objects}\n",
      "\n",
      "\n"
     ]
    }
   ],
   "source": [
    "# cProfile\n",
    "import cProfile\n",
    "\n",
    "cProfile.run('sample()')"
   ]
  },
  {
   "cell_type": "code",
   "execution_count": 9,
   "metadata": {},
   "outputs": [
    {
     "name": "stdout",
     "output_type": "stream",
     "text": [
      "         4 function calls in 0.000 seconds\n",
      "\n",
      "   Ordered by: standard name\n",
      "\n",
      "   ncalls  tottime  percall  cumtime  percall filename:lineno(function)\n",
      "        1    0.000    0.000    0.000    0.000 <ipython-input-2-9b8ac80b9d6c>:9(sample_optium)\n",
      "        1    0.000    0.000    0.000    0.000 <string>:1(<module>)\n",
      "        1    0.000    0.000    0.000    0.000 {built-in method builtins.exec}\n",
      "        1    0.000    0.000    0.000    0.000 {method 'disable' of '_lsprof.Profiler' objects}\n",
      "\n",
      "\n"
     ]
    }
   ],
   "source": [
    "cProfile.run('sample_optium()')"
   ]
  },
  {
   "cell_type": "code",
   "execution_count": 20,
   "metadata": {},
   "outputs": [
    {
     "name": "stdout",
     "output_type": "stream",
     "text": [
      "Timer unit: 1e-09 s\n",
      "\n",
      "Total time: 3.249e-06 s\n",
      "File: <ipython-input-2-9b8ac80b9d6c>\n",
      "Function: sample at line 1\n",
      "\n",
      "Line #      Hits         Time  Per Hit   % Time  Line Contents\n",
      "==============================================================\n",
      "     1                                           def sample():\n",
      "     2         1        925.0    925.0     28.5      a = 10\n",
      "     3         1        272.0    272.0      8.4      b = 12\n",
      "     4         1        403.0    403.0     12.4      c = a + b\n",
      "     5         1        643.0    643.0     19.8      d = a * b\n",
      "     6         1        783.0    783.0     24.1      e = c/d\n",
      "     7         1        223.0    223.0      6.9      return e\n",
      "\n"
     ]
    }
   ],
   "source": [
    "# lineProfiler\n",
    "from line_profiler import LineProfiler\n",
    "\n",
    "profile = LineProfiler(sample)\n",
    "\n",
    "with profile:\n",
    "    sample()\n",
    "    \n",
    "profile.print_stats()"
   ]
  },
  {
   "cell_type": "code",
   "execution_count": 21,
   "metadata": {},
   "outputs": [
    {
     "name": "stdout",
     "output_type": "stream",
     "text": [
      "Timer unit: 1e-09 s\n",
      "\n",
      "Total time: 2.609e-06 s\n",
      "File: <ipython-input-2-9b8ac80b9d6c>\n",
      "Function: sample_optium at line 9\n",
      "\n",
      "Line #      Hits         Time  Per Hit   % Time  Line Contents\n",
      "==============================================================\n",
      "     9                                           def sample_optium():\n",
      "    10         1        894.0    894.0     34.3      a = 10\n",
      "    11         1        330.0    330.0     12.6      b = 12\n",
      "    12         1       1155.0   1155.0     44.3      e = (a+b)/(a*b)\n",
      "    13         1        230.0    230.0      8.8      return e \n",
      "\n"
     ]
    }
   ],
   "source": [
    "profile1 = LineProfiler(sample_optium)\n",
    "\n",
    "with profile1:\n",
    "    sample_optium()\n",
    "    \n",
    "profile1.print_stats()"
   ]
  },
  {
   "cell_type": "markdown",
   "metadata": {},
   "source": [
    "# List"
   ]
  },
  {
   "cell_type": "code",
   "execution_count": 27,
   "metadata": {},
   "outputs": [
    {
     "data": {
      "text/plain": [
       "'Element not Found'"
      ]
     },
     "execution_count": 27,
     "metadata": {},
     "output_type": "execute_result"
    }
   ],
   "source": [
    "# Linear Search\n",
    "\n",
    "def linear_search(search_element , lst):\n",
    "    for i , ele in enumerate(lst):\n",
    "        if ele == search_element:\n",
    "            return i\n",
    "    return \"Element not Found\"\n",
    "        \n",
    "my_list = [1,3,4,5,\"r\",\"a\",\"g\",\"u\",3.14,65] \n",
    "\n",
    "linear_search(\"y\",my_list)"
   ]
  },
  {
   "cell_type": "code",
   "execution_count": 28,
   "metadata": {},
   "outputs": [],
   "source": [
    "import bisect\n",
    "import random"
   ]
  },
  {
   "cell_type": "code",
   "execution_count": 31,
   "metadata": {},
   "outputs": [
    {
     "name": "stdout",
     "output_type": "stream",
     "text": [
      "0\n",
      "1\n",
      "2\n",
      "3\n",
      "4\n",
      "5\n",
      "6\n",
      "7\n",
      "8\n",
      "9\n"
     ]
    }
   ],
   "source": [
    "number = []\n",
    "for i in range(10):\n",
    "    print(i)"
   ]
  },
  {
   "cell_type": "code",
   "execution_count": null,
   "metadata": {},
   "outputs": [],
   "source": [
    "# Tuples\n",
    "- Describing Multiple properties of one unchanging thing.\n",
    "\n",
    "\n",
    "# List\n",
    "- Store collections of data about completely disparate objects.\n",
    "\n",
    "# Diff\n",
    "\n",
    "- List are the Dynamic arrays!\n",
    "- Tuples are the Static arrays!\n",
    "- List are not cached!\n",
    "- Tuples cached by python runtime.\n",
    "- Both can be mixed type.\n",
    "- Tuples are lightweight at the cost of immutability.\n",
    "- List are mutable at the cost of extra mem\n",
    "\n"
   ]
  }
 ],
 "metadata": {
  "kernelspec": {
   "display_name": "Python 3",
   "language": "python",
   "name": "python3"
  },
  "language_info": {
   "codemirror_mode": {
    "name": "ipython",
    "version": 3
   },
   "file_extension": ".py",
   "mimetype": "text/x-python",
   "name": "python",
   "nbconvert_exporter": "python",
   "pygments_lexer": "ipython3",
   "version": "3.8.5"
  }
 },
 "nbformat": 4,
 "nbformat_minor": 4
}
