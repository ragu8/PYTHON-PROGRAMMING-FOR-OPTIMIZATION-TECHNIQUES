{
 "cells": [
  {
   "cell_type": "markdown",
   "metadata": {},
   "source": [
    "# Python Code Optimization\n",
    "\n",
    "## Profiling\n",
    "- Timer\n",
    "- cProfile\n",
    "- Line Profile"
   ]
  },
  {
   "cell_type": "code",
   "execution_count": 2,
   "metadata": {},
   "outputs": [],
   "source": [
    "def sample():\n",
    "    a = 10\n",
    "    b = 12\n",
    "    c = a + b\n",
    "    d = a * b\n",
    "    e = c/d\n",
    "    return e\n",
    "\n",
    "def sample_optium():\n",
    "    a = 10\n",
    "    b = 12\n",
    "    e = (a+b)/(a*b)\n",
    "    return e "
   ]
  },
  {
   "cell_type": "code",
   "execution_count": 5,
   "metadata": {},
   "outputs": [
    {
     "name": "stdout",
     "output_type": "stream",
     "text": [
      "TIme Conused for sample : 5.030632019042969e-05\n",
      "Time Conused for sample_optium : 4.57763671875e-05\n"
     ]
    }
   ],
   "source": [
    "# Timer\n",
    "import time\n",
    "\n",
    "start_time = time.time()\n",
    "sample()\n",
    "end_time = time.time()\n",
    "print(f\"TIme Conused for sample : {end_time-start_time}\")\n",
    "\n",
    "\n",
    "start_time = time.time()\n",
    "sample_optium()\n",
    "end_time = time.time()\n",
    "print(f\"Time Conused for sample_optium : {end_time - start_time}\")\n"
   ]
  },
  {
   "cell_type": "code",
   "execution_count": 8,
   "metadata": {},
   "outputs": [
    {
     "name": "stdout",
     "output_type": "stream",
     "text": [
      "         4 function calls in 0.000 seconds\n",
      "\n",
      "   Ordered by: standard name\n",
      "\n",
      "   ncalls  tottime  percall  cumtime  percall filename:lineno(function)\n",
      "        1    0.000    0.000    0.000    0.000 <ipython-input-2-9b8ac80b9d6c>:1(sample)\n",
      "        1    0.000    0.000    0.000    0.000 <string>:1(<module>)\n",
      "        1    0.000    0.000    0.000    0.000 {built-in method builtins.exec}\n",
      "        1    0.000    0.000    0.000    0.000 {method 'disable' of '_lsprof.Profiler' objects}\n",
      "\n",
      "\n"
     ]
    }
   ],
   "source": [
    "# cProfile\n",
    "import cProfile\n",
    "\n",
    "cProfile.run('sample()')"
   ]
  },
  {
   "cell_type": "code",
   "execution_count": 9,
   "metadata": {},
   "outputs": [
    {
     "name": "stdout",
     "output_type": "stream",
     "text": [
      "         4 function calls in 0.000 seconds\n",
      "\n",
      "   Ordered by: standard name\n",
      "\n",
      "   ncalls  tottime  percall  cumtime  percall filename:lineno(function)\n",
      "        1    0.000    0.000    0.000    0.000 <ipython-input-2-9b8ac80b9d6c>:9(sample_optium)\n",
      "        1    0.000    0.000    0.000    0.000 <string>:1(<module>)\n",
      "        1    0.000    0.000    0.000    0.000 {built-in method builtins.exec}\n",
      "        1    0.000    0.000    0.000    0.000 {method 'disable' of '_lsprof.Profiler' objects}\n",
      "\n",
      "\n"
     ]
    }
   ],
   "source": [
    "cProfile.run('sample_optium()')"
   ]
  },
  {
   "cell_type": "code",
   "execution_count": 17,
   "metadata": {},
   "outputs": [
    {
     "name": "stdout",
     "output_type": "stream",
     "text": [
      "Timer unit: 1e-09 s\n",
      "\n",
      "Total time: 2.852e-06 s\n",
      "File: <ipython-input-2-9b8ac80b9d6c>\n",
      "Function: sample at line 1\n",
      "\n",
      "Line #      Hits         Time  Per Hit   % Time  Line Contents\n",
      "==============================================================\n",
      "     1                                           def sample():\n",
      "     2         1        861.0    861.0     30.2      a = 10\n",
      "     3         1        256.0    256.0      9.0      b = 12\n",
      "     4         1        435.0    435.0     15.3      c = a + b\n",
      "     5         1        381.0    381.0     13.4      d = a * b\n",
      "     6         1        702.0    702.0     24.6      e = c/d\n",
      "     7         1        217.0    217.0      7.6      return e\n",
      "\n"
     ]
    }
   ],
   "source": [
    "# lineProfiler\n",
    "from line_profiler import LineProfiler\n",
    "\n",
    "profile = LineProfiler(sample)\n",
    "\n",
    "with profile:\n",
    "    sample()\n",
    "    \n",
    "profile.print_stats()"
   ]
  },
  {
   "cell_type": "code",
   "execution_count": 16,
   "metadata": {},
   "outputs": [],
   "source": [
    "profile = LineProfiler(sample)\n",
    "\n",
    "with profile:\n",
    "    sample_optium()\n",
    "    \n",
    "profile.print_stats()"
   ]
  },
  {
   "cell_type": "code",
   "execution_count": null,
   "metadata": {},
   "outputs": [],
   "source": []
  }
 ],
 "metadata": {
  "kernelspec": {
   "display_name": "Python 3",
   "language": "python",
   "name": "python3"
  },
  "language_info": {
   "codemirror_mode": {
    "name": "ipython",
    "version": 3
   },
   "file_extension": ".py",
   "mimetype": "text/x-python",
   "name": "python",
   "nbconvert_exporter": "python",
   "pygments_lexer": "ipython3",
   "version": "3.8.5"
  }
 },
 "nbformat": 4,
 "nbformat_minor": 4
}
