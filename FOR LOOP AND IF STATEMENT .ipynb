{
 "cells": [
  {
   "cell_type": "markdown",
   "metadata": {},
   "source": [
    " Ragupathi M"
   ]
  },
  {
   "cell_type": "markdown",
   "metadata": {},
   "source": [
    "### 1. Write a program to print the number divisible by 7 and lying between the given limits "
   ]
  },
  {
   "cell_type": "code",
   "execution_count": 2,
   "metadata": {},
   "outputs": [
    {
     "name": "stdout",
     "output_type": "stream",
     "text": [
      "Number Divsible by 7 : [7, 14]\n"
     ]
    }
   ],
   "source": [
    "def Divi_7(a,b):\n",
    "    return [i for i in range(a,b+1) if i%7 == 0]\n",
    "\n",
    "print(f\"Number Divsible by 7 : {Divi_7(1,20)}\")\n",
    "        "
   ]
  },
  {
   "cell_type": "markdown",
   "metadata": {},
   "source": [
    "### 2. write a program to genrate odd and even number within a set of limits\n"
   ]
  },
  {
   "cell_type": "code",
   "execution_count": 4,
   "metadata": {},
   "outputs": [
    {
     "name": "stdout",
     "output_type": "stream",
     "text": [
      "([2, 4, 6, 8, 10], [1, 3, 5, 7, 9])\n",
      "([0, 2, 4, 6, 8, 10, 12, 14, 16, 18, 20], [1, 3, 5, 7, 9, 11, 13, 15, 17, 19])\n",
      "([-4, -2, 0, 2, 4], [-5, -3, -1, 1, 3, 5])\n"
     ]
    }
   ],
   "source": [
    "def odd_even(a,b):\n",
    "    return [i for i in  range(a,b+1) if i%2 == 0], [i for i in  range(a,b+1) if i%2 != 0]\n",
    "\n",
    "\n",
    "print(odd_even(1, 10))  # Expected output: ([2, 4, 6, 8, 10], [1, 3, 5, 7, 9])\n",
    "print(odd_even(0, 20))  # Expected output: ([0, 2, 4, 6, 8, 10, 12, 14, 16, 18, 20], [1, 3, 5, 7, 9, 11, 13, 15, 17, 19])\n",
    "print(odd_even(-5, 5))  # Expected output: ([-4, -2, 0, 2, 4], [-5, -3, -1, 1, 3, 5])\n"
   ]
  },
  {
   "cell_type": "code",
   "execution_count": 5,
   "metadata": {},
   "outputs": [],
   "source": [
    "import pytest\n",
    "\n",
    "def odd_even(a, b):\n",
    "    even_numbers = []\n",
    "    odd_numbers = []\n",
    "    \n",
    "    for i in range(a, b + 1):\n",
    "        if i % 2 == 0:\n",
    "            even_numbers.append(i)\n",
    "        else:\n",
    "            odd_numbers.append(i)\n",
    "    \n",
    "    return even_numbers, odd_numbers\n",
    "\n",
    "def test_odd_even():\n",
    "    assert odd_even(1, 10) == ([2, 4, 6, 8, 10], [1, 3, 5, 7, 9])\n",
    "    assert odd_even(0, 20) == ([0, 2, 4, 6, 8, 10, 12, 14, 16, 18, 20], [1, 3, 5, 7, 9, 11, 13, 15, 17, 19])\n",
    "    assert odd_even(-5, 5) == ([-4, -2, 0, 2, 4], [-5, -3, -1, 1, 3, 5])\n"
   ]
  },
  {
   "cell_type": "code",
   "execution_count": null,
   "metadata": {},
   "outputs": [],
   "source": []
  }
 ],
 "metadata": {
  "kernelspec": {
   "display_name": "Python 3",
   "language": "python",
   "name": "python3"
  },
  "language_info": {
   "codemirror_mode": {
    "name": "ipython",
    "version": 3
   },
   "file_extension": ".py",
   "mimetype": "text/x-python",
   "name": "python",
   "nbconvert_exporter": "python",
   "pygments_lexer": "ipython3",
   "version": "3.8.5"
  }
 },
 "nbformat": 4,
 "nbformat_minor": 4
}
