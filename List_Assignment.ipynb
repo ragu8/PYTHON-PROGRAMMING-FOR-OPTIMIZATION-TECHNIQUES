{
 "cells": [
  {
   "cell_type": "markdown",
   "metadata": {},
   "source": [
    "# List of Programs:"
   ]
  },
  {
   "cell_type": "markdown",
   "metadata": {},
   "source": [
    "1) Write a Python program to create a list named as “student” with student details and print the details in list format."
   ]
  },
  {
   "cell_type": "code",
   "execution_count": 2,
   "metadata": {},
   "outputs": [
    {
     "data": {
      "text/plain": [
       "['Thanigai vel', 2023184028, 'OR']"
      ]
     },
     "execution_count": 2,
     "metadata": {},
     "output_type": "execute_result"
    }
   ],
   "source": [
    "student = [[\"Ragu\",2023184032,\"OR\"],[\"Thanigai vel\",2023184028,\"OR\"],[\"sabari\",2023184030,\"OR\"]]\n",
    "student[1]"
   ]
  },
  {
   "cell_type": "markdown",
   "metadata": {},
   "source": [
    "2) Write a Python program to reverse a list using a loop."
   ]
  },
  {
   "cell_type": "code",
   "execution_count": 5,
   "metadata": {},
   "outputs": [
    {
     "name": "stdout",
     "output_type": "stream",
     "text": [
      "list item 2 = sabari\n",
      "list item 1 = thanigai\n",
      "list item 0 = ragu\n"
     ]
    }
   ],
   "source": [
    "lst = [\"ragu\",\"thanigai\",\"sabari\"]\n",
    "for i in range(len(lst)-1,-1,-1):\n",
    "    print(f\"list item {i} = {lst[i]}\")"
   ]
  },
  {
   "cell_type": "markdown",
   "metadata": {},
   "source": [
    "3) Write a Python program to create a copy of list using both aliasing and clone of the original list."
   ]
  },
  {
   "cell_type": "code",
   "execution_count": 11,
   "metadata": {},
   "outputs": [
    {
     "name": "stdout",
     "output_type": "stream",
     "text": [
      "alising\n",
      "[1, 2, 4, 8, 16, 32, 64, 128, 512]\n",
      "[1, 2, 4, 8, 16, 32, 64, 128, 512]\n",
      "Modified\n",
      "[1, 2, 4, 8, 'error', 32, 64, 128, 512]\n",
      "[1, 2, 4, 8, 'error', 32, 64, 128, 512]\n",
      "clone\n",
      "[1, 2, 4, 8, 'error', 32, 64, 128, 512]\n",
      "[1, 2]\n",
      "Modified\n",
      "['clone', 2, 4, 8, 'error', 32, 64, 128, 512]\n",
      "[1, 2]\n"
     ]
    }
   ],
   "source": [
    "lst1 = [1,2,4,8,16,32,64,128,512]\n",
    "lst2 = lst1 # alising\n",
    "\n",
    "print(\"alising\")\n",
    "print(lst1)\n",
    "print(lst2)\n",
    "\n",
    "lst1[4] = \"error\"\n",
    "\n",
    "print(\"Modified\")\n",
    "print(lst1)\n",
    "print(lst2) # affecting on both\n",
    "\n",
    "lst3 = lst1[:2] # clone\n",
    "\n",
    "print(\"clone\")\n",
    "print(lst1)\n",
    "print(lst3)\n",
    "\n",
    "lst1[0] = \"clone\" \n",
    "\n",
    "print(\"Modified\")\n",
    "print(lst1)\n",
    "print(lst3) # not affecting on both\n",
    "\n"
   ]
  },
  {
   "cell_type": "markdown",
   "metadata": {},
   "source": [
    "4) Write a Python program to delete items using empty list."
   ]
  },
  {
   "cell_type": "code",
   "execution_count": 16,
   "metadata": {},
   "outputs": [
    {
     "name": "stdout",
     "output_type": "stream",
     "text": [
      "[8, 12, 3]\n"
     ]
    }
   ],
   "source": [
    "lst = [8,12,0,1,3]\n",
    "item_removed = [0,1]\n",
    "\n",
    "for item in item_removed:\n",
    "    while item in lst:\n",
    "        lst.remove(item)\n",
    "        \n",
    "print(lst)\n"
   ]
  },
  {
   "cell_type": "markdown",
   "metadata": {},
   "source": [
    "5) Write a Python program to get a list as input from the user."
   ]
  },
  {
   "cell_type": "code",
   "execution_count": 39,
   "metadata": {},
   "outputs": [
    {
     "name": "stdin",
     "output_type": "stream",
     "text": [
      "enter the ele with separator as space :  23\n"
     ]
    },
    {
     "name": "stdout",
     "output_type": "stream",
     "text": [
      "[23]\n"
     ]
    }
   ],
   "source": [
    "list_input = input(\"enter the ele with separator as space : \")\n",
    "lst  = list(map(int, list_input.split()))\n",
    "print(lst)"
   ]
  },
  {
   "cell_type": "markdown",
   "metadata": {},
   "source": [
    "6) Write a Python program to get integer from a user and then store that value in list as strings."
   ]
  },
  {
   "cell_type": "code",
   "execution_count": 43,
   "metadata": {},
   "outputs": [
    {
     "name": "stdin",
     "output_type": "stream",
     "text": [
      "Enter the size of list :  3\n",
      "Enter number :  3\n",
      "Enter number :  3\n",
      "Enter number :  2\n"
     ]
    },
    {
     "name": "stdout",
     "output_type": "stream",
     "text": [
      "['3', '3', '2']\n"
     ]
    }
   ],
   "source": [
    "\n",
    "def GetString():\n",
    "    lst = []\n",
    "    number_ele = int(input(\"Enter the size of list : \"))\n",
    "    for i in range(number_ele):\n",
    "        ele = int(input(\"Enter number : \"))\n",
    "        lst.append(str(ele))\n",
    "    return lst\n",
    "\n",
    "list_as_string = GetString()\n",
    "print(list_as_string)"
   ]
  },
  {
   "cell_type": "markdown",
   "metadata": {},
   "source": [
    "7) Write a Python program to get a sentence from the user and convert that into list and vice versa."
   ]
  },
  {
   "cell_type": "code",
   "execution_count": 50,
   "metadata": {},
   "outputs": [
    {
     "name": "stdin",
     "output_type": "stream",
     "text": [
      "Enter the sentence :  this are good\n"
     ]
    },
    {
     "name": "stdout",
     "output_type": "stream",
     "text": [
      "string from list : ['this', 'are', 'good']\n",
      "Sentence of string : this are good \n"
     ]
    }
   ],
   "source": [
    "list_input = input(\"Enter the sentence : \")\n",
    "\n",
    "lst_sentence = list_input.split()\n",
    "\n",
    "print(f\" list from string : {lst_sentence}\")\n",
    "  \n",
    "print(f\"Sentence of string : {' '.join(lst_sentence)} \")\n",
    "    "
   ]
  },
  {
   "cell_type": "markdown",
   "metadata": {},
   "source": [
    "8) Write a Python program to find the maximum of a list of numbers."
   ]
  },
  {
   "cell_type": "code",
   "execution_count": 53,
   "metadata": {},
   "outputs": [
    {
     "name": "stdout",
     "output_type": "stream",
     "text": [
      "Max in list : 567\n"
     ]
    }
   ],
   "source": [
    "lst = [2,45,67,23,56,98,233,567]\n",
    "print(f\"Max in list : {max(lst)}\")"
   ]
  },
  {
   "cell_type": "markdown",
   "metadata": {},
   "source": [
    "9) Write a Python program to count the number of strings where the string length is 2 or more and the first and last character are same from a given list of strings."
   ]
  },
  {
   "cell_type": "code",
   "execution_count": 63,
   "metadata": {},
   "outputs": [
    {
     "name": "stdin",
     "output_type": "stream",
     "text": [
      "Enter the Sentence :  this is mam on classc\n"
     ]
    }
   ],
   "source": []
  },
  {
   "cell_type": "code",
   "execution_count": 71,
   "metadata": {},
   "outputs": [
    {
     "name": "stdin",
     "output_type": "stream",
     "text": [
      "Enter the Sentence:  mam\n"
     ]
    },
    {
     "name": "stdout",
     "output_type": "stream",
     "text": [
      "Number of strings which have the first and last letter the same: 1\n"
     ]
    }
   ],
   "source": [
    "def count(lst_sentence):\n",
    "    count_lst = []\n",
    "    for string in lst_sentence:\n",
    "        if len(string) >= 2 and string[0] == string[-1]:\n",
    "            count_lst.append(string)\n",
    "    return len(count_lst)\n",
    "\n",
    "list_input = input(\"Enter the Sentence: \")\n",
    "lst_sentence = list_input.split()\n",
    "print(f\"Number of strings which have the first and last letter the same: {count(lst_sentence)}\")\n"
   ]
  },
  {
   "cell_type": "markdown",
   "metadata": {},
   "source": [
    "10) Write a python program for the following:\n",
    "    - A. Create a list with Name, Age, DOB, Nativity, Qualification, Hobby and Dream Job\n",
    "    - B. Print the details with index number. (0…6)\n",
    "    - C. Update the list with Gender in Index No: 3. (0…7)\n",
    "    - D. Print the updated details with index number."
   ]
  },
  {
   "cell_type": "code",
   "execution_count": 78,
   "metadata": {},
   "outputs": [
    {
     "name": "stdout",
     "output_type": "stream",
     "text": [
      "['Ragu', 22, '2001-04-08', 'Hosur', 'Master of Engineering in Operations Research', 'Dont known']\n",
      "index : 0 = Ragu\n",
      "index : 1 = 22\n",
      "index : 2 = 2001-04-08\n",
      "index : 3 = Male\n",
      "index : 4 = Hosur\n",
      "index : 5 = Master of Engineering in Operations Research\n",
      "index : 6 = Dont known\n",
      "index : 7 = OR Analyst\n"
     ]
    }
   ],
   "source": [
    "person_info = [\"Ragu\", 22, \"2001-04-08\", \"Hosur\", \"Master of Engineering in Operations Research\", \"Dont known\", \"OR Analyst\"]\n",
    "\n",
    "print(person_info[:6])\n",
    "\n",
    "person_info.insert(3,\"Male\")\n",
    "\n",
    "for i in range(len(person_info)):\n",
    "    print(f\"index : {i} = {person_info[i]}\")"
   ]
  },
  {
   "cell_type": "markdown",
   "metadata": {},
   "source": [
    "11) Write a Python program for the following:\n",
    "    - Make a list of first ten letters of the alphabet, then using the slice operation do the following operations.\n",
    "        - A. Print the first three letters from the list.\n",
    "        - B. Print any three letters from the middle.\n",
    "        - C. Print the letters from any particular index to the end of the list."
   ]
  },
  {
   "cell_type": "code",
   "execution_count": 91,
   "metadata": {},
   "outputs": [
    {
     "name": "stdout",
     "output_type": "stream",
     "text": [
      "First Three letters = ['Y', 'O', 'G']\n",
      "Mid Three letters = ['E', 'S', 'H']\n",
      "Last letters = ['W', 'A', 'R', 'I']\n"
     ]
    }
   ],
   "source": [
    "lst_letter = [\"Y\",\"O\",\"G\",\"E\",\"S\",\"H\",\"W\",\"A\",\"R\",\"I\"]\n",
    "print(f\"First Three letters = {lst_letter[:3]}\")\n",
    "print(f\"Mid Three letters = {lst_letter[3:6]}\")\n",
    "print(f\"Last letters = {lst_letter[6:]}\")"
   ]
  },
  {
   "cell_type": "markdown",
   "metadata": {},
   "source": [
    "12) Write a Python program to find the sum and mean of elements in a list."
   ]
  },
  {
   "cell_type": "code",
   "execution_count": 93,
   "metadata": {},
   "outputs": [
    {
     "name": "stdout",
     "output_type": "stream",
     "text": [
      " Sum of lst : 55 \n",
      " Mean of lst : 5.5\n"
     ]
    }
   ],
   "source": [
    "lst = [1,2,3,4,5,6,7,8,9,10]\n",
    "print(f\" Sum of lst : {sum(lst)} \\n Mean of lst : {sum(lst)/len(lst)}\")"
   ]
  },
  {
   "cell_type": "markdown",
   "metadata": {},
   "source": [
    "13) Write a Python program to remove duplicates from a list."
   ]
  },
  {
   "cell_type": "code",
   "execution_count": 97,
   "metadata": {},
   "outputs": [
    {
     "name": "stdout",
     "output_type": "stream",
     "text": [
      "[1, 2, 3, 4, 5, 6, 7, 8, 9, 10]\n"
     ]
    }
   ],
   "source": [
    "lst = [1,2,3,4,5,6,7,8,9,10,10]\n",
    "No_duplicates = list(set(lst))\n",
    "print(No_duplicates)"
   ]
  },
  {
   "cell_type": "markdown",
   "metadata": {},
   "source": [
    "14) Write a Python program to generate a list of Y Even numbers between X & Z."
   ]
  },
  {
   "cell_type": "code",
   "execution_count": 105,
   "metadata": {},
   "outputs": [
    {
     "name": "stdin",
     "output_type": "stream",
     "text": [
      "Enter the limit X :  12\n",
      "Enter the limit Z:  23\n"
     ]
    },
    {
     "name": "stdout",
     "output_type": "stream",
     "text": [
      "Even Number : [12, 14, 16, 18, 20, 22]\n"
     ]
    }
   ],
   "source": [
    "X = int(input(\"Enter the limit X : \"))\n",
    "Z = int(input(\"Enter the limit Z: \"))\n",
    "print(f\"Even Number : {[i for i in range(X,Z+1) if i%2 ==0] }\")"
   ]
  },
  {
   "cell_type": "markdown",
   "metadata": {},
   "source": [
    "15) Write a python program that prints the maximum value of the second half of the list."
   ]
  },
  {
   "cell_type": "code",
   "execution_count": 109,
   "metadata": {},
   "outputs": [
    {
     "name": "stdout",
     "output_type": "stream",
     "text": [
      " Max value in Second half : 10\n"
     ]
    }
   ],
   "source": [
    "lst = [12, 2, 3, 4, 5, 6, 7, 8, 9, 10]\n",
    "print(f\" Max value in Second half : {max(lst[round(len(lst)/2):])}\")"
   ]
  },
  {
   "cell_type": "markdown",
   "metadata": {},
   "source": [
    "16) Write a python program that counts the number of times every value appears in the list."
   ]
  },
  {
   "cell_type": "code",
   "execution_count": 125,
   "metadata": {},
   "outputs": [
    {
     "name": "stdout",
     "output_type": "stream",
     "text": [
      "[[12, 2], [3, 1], [14, 2], [5, 1], [6, 1], [7, 1], [9, 1], [10, 1]]\n"
     ]
    }
   ],
   "source": [
    "lst = [12, 12, 3, 14, 5, 6, 7, 14, 9, 10]\n",
    "count = []\n",
    "\n",
    "for num in lst:\n",
    "    found = False\n",
    "    for item in count:\n",
    "        if item[0]==num:\n",
    "            item[1] +=1\n",
    "            found=True\n",
    "            break\n",
    "            \n",
    "    if not found:\n",
    "        count.append([num,1])\n",
    "        \n",
    "print(count)\n"
   ]
  },
  {
   "cell_type": "markdown",
   "metadata": {},
   "source": [
    "17) Write a Python program for the following :\n",
    "    - A. Create an empty list named as ”Hall Ticket”.\n",
    "    - B. Get Student name, Roll no., Subject name, No. of days and 2 internal assessment marks from user.\n",
    "    - C. Update the list using the above details.\n",
    "    - D. Check eligible for Hall ticket generation: (No. of days > = 36, Total no. of days:45)\n",
    "    - E. If student is eligible, then generate a new list with student details. Else, display “prevented”."
   ]
  },
  {
   "cell_type": "code",
   "execution_count": 129,
   "metadata": {},
   "outputs": [
    {
     "name": "stdin",
     "output_type": "stream",
     "text": [
      "Number of Students? :  10\n"
     ]
    },
    {
     "name": "stdout",
     "output_type": "stream",
     "text": [
      "Students Eligible:\n",
      "['Student87', 'R9556', 'Subject8', 50, 98.99, 43.02]\n",
      "['Student87', 'R5052', 'Subject3', 43, 30.28, 53.13]\n",
      "['Student61', 'R9497', 'Subject7', 42, 80.74, 90.51]\n",
      "['Student43', 'R6836', 'Subject2', 36, 72.33, 92.22]\n",
      "['Student75', 'R9928', 'Subject5', 47, 70.19, 39.33]\n",
      "['Student67', 'R6175', 'Subject5', 37, 93.07, 68.23]\n",
      "\n",
      "Students Prevented:\n",
      "['Student10', 'R1312', 'Subject7', 30, 87.08, 82.75]\n",
      "['Student47', 'R6553', 'Subject7', 30, 30.22, 11.25]\n",
      "['Student72', 'R9135', 'Subject3', 26, 6.93, 57.39]\n",
      "['Student27', 'R1457', 'Subject8', 21, 20.84, 75.64]\n"
     ]
    }
   ],
   "source": [
    "import random\n",
    "\n",
    "def HT_Genrator():\n",
    "    student_name = \"Student\" + str(random.randint(1, 100))\n",
    "    roll_number = \"R\" + str(random.randint(1000, 9999))\n",
    "    subject_name = \"Subject\" + str(random.randint(1, 10))\n",
    "    num_of_days = random.randint(20, 50)\n",
    "    internal_assessment1 = round(random.uniform(0, 100), 2)\n",
    "    internal_assessment2 = round(random.uniform(0, 100), 2)\n",
    "    \n",
    "    Hall_Ticket.append([student_name, roll_number, subject_name, num_of_days, internal_assessment1, internal_assessment2])\n",
    "\n",
    "def HT_check(Hall_Ticket):\n",
    "    eligible = []\n",
    "    prevented = []\n",
    "    for student in Hall_Ticket:\n",
    "        if student[3] >= 36:\n",
    "            eligible.append(student)\n",
    "        else:\n",
    "            prevented.append(student)\n",
    "    return eligible, prevented\n",
    "            \n",
    "Hall_Ticket = []\n",
    "\n",
    "no_of_student = int(input(\"Number of Students? : \"))\n",
    "\n",
    "for _ in range(no_of_student):  \n",
    "    HT_Genrator()\n",
    "\n",
    "eligible, prevented = HT_check(Hall_Ticket)\n",
    "\n",
    "print(\"Students Eligible:\")\n",
    "for student in eligible:\n",
    "    print(student)\n",
    "\n",
    "print(\"\\nStudents Prevented:\")\n",
    "for student in prevented:\n",
    "    print(student)\n"
   ]
  },
  {
   "cell_type": "markdown",
   "metadata": {},
   "source": [
    "18) Write a Python program for the Mobile purchase and then print the data in receipt format.\n",
    "    - A. Create Separate list for Mobile Model, Discount, Amount and Warranty."
   ]
  },
  {
   "cell_type": "code",
   "execution_count": 130,
   "metadata": {},
   "outputs": [
    {
     "name": "stdin",
     "output_type": "stream",
     "text": [
      "Enter the number of records to generate:  23\n",
      "Enter the number of mobiles to purchase:  1\n"
     ]
    },
    {
     "name": "stdout",
     "output_type": "stream",
     "text": [
      "*********** Receipt ***********\n",
      "Model: Mobile99\n",
      "Discount: 11%\n",
      "Amount: 48467\n",
      "Warranty: 3 Years\n",
      "-----------------------------\n",
      "Total Amount: 48467\n",
      "*******************************\n"
     ]
    }
   ],
   "source": [
    "import random\n",
    "\n",
    "def generate_dummy_data(num_records):\n",
    "    mobile_models = []\n",
    "    discounts = []\n",
    "    amounts = []\n",
    "    warranties = []\n",
    "\n",
    "    for _ in range(num_records):\n",
    "        mobile_model = \"Mobile\" + str(random.randint(1, 100))\n",
    "        discount = random.randint(5, 25)\n",
    "        amount = random.randint(10000, 50000)\n",
    "        warranty = random.choice([\"1 Year\", \"2 Years\", \"3 Years\"])\n",
    "\n",
    "        mobile_models.append(mobile_model)\n",
    "        discounts.append(discount)\n",
    "        amounts.append(amount)\n",
    "        warranties.append(warranty)\n",
    "\n",
    "    return mobile_models, discounts, amounts, warranties\n",
    "\n",
    "num_records = int(input(\"Enter the number of records to generate: \"))\n",
    "mobile_models, discounts, amounts, warranties = generate_dummy_data(num_records)\n",
    "\n",
    "def print_receipt(mobile_models, discounts, amounts, warranties):\n",
    "    total_amount = sum(amounts)\n",
    "    print(\"*********** Receipt ***********\")\n",
    "    for i in range(len(mobile_models)):\n",
    "        print(f\"Model: {mobile_models[i]}\")\n",
    "        print(f\"Discount: {discounts[i]}%\")\n",
    "        print(f\"Amount: {amounts[i]}\")\n",
    "        print(f\"Warranty: {warranties[i]}\")\n",
    "        print(\"-----------------------------\")\n",
    "    print(f\"Total Amount: {total_amount}\")\n",
    "    print(\"*******************************\")\n",
    "\n",
    "num_records = int(input(\"Enter the number of mobiles to purchase: \"))\n",
    "mobile_models, discounts, amounts, warranties = generate_dummy_data(num_records)\n",
    "print_receipt(mobile_models, discounts, amounts, warranties)\n"
   ]
  },
  {
   "cell_type": "code",
   "execution_count": null,
   "metadata": {},
   "outputs": [],
   "source": []
  }
 ],
 "metadata": {
  "kernelspec": {
   "display_name": "Python 3",
   "language": "python",
   "name": "python3"
  },
  "language_info": {
   "codemirror_mode": {
    "name": "ipython",
    "version": 3
   },
   "file_extension": ".py",
   "mimetype": "text/x-python",
   "name": "python",
   "nbconvert_exporter": "python",
   "pygments_lexer": "ipython3",
   "version": "3.8.5"
  }
 },
 "nbformat": 4,
 "nbformat_minor": 4
}
