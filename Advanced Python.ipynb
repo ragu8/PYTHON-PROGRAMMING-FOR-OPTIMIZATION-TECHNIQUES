{
 "cells": [
  {
   "cell_type": "markdown",
   "metadata": {},
   "source": [
    "# Advanced Python"
   ]
  },
  {
   "cell_type": "code",
   "execution_count": 6,
   "metadata": {},
   "outputs": [],
   "source": [
    "Letters = [\"A\",\"B\",\"C\",\"D\"]\n",
    "Numbers = [1, 2, 3, 4]"
   ]
  },
  {
   "cell_type": "code",
   "execution_count": 8,
   "metadata": {},
   "outputs": [
    {
     "data": {
      "text/plain": [
       "[1, 4, 9, 16]"
      ]
     },
     "execution_count": 8,
     "metadata": {},
     "output_type": "execute_result"
    }
   ],
   "source": [
    "# Map (list)\n",
    "mapping = list(map(lambda x: x**2,Numbers))\n",
    "mapping"
   ]
  },
  {
   "cell_type": "code",
   "execution_count": 10,
   "metadata": {},
   "outputs": [
    {
     "data": {
      "text/plain": [
       "[('A', 1), ('B', 2), ('C', 3), ('D', 4)]"
      ]
     },
     "execution_count": 10,
     "metadata": {},
     "output_type": "execute_result"
    }
   ],
   "source": [
    "# Zip (list)\n",
    "\n",
    "zipping = list(zip(Letters,Numbers))\n",
    "zipping"
   ]
  },
  {
   "cell_type": "code",
   "execution_count": 11,
   "metadata": {},
   "outputs": [
    {
     "data": {
      "text/plain": [
       "{'A': 1, 'B': 2, 'C': 3, 'D': 4}"
      ]
     },
     "execution_count": 11,
     "metadata": {},
     "output_type": "execute_result"
    }
   ],
   "source": [
    "# Zip (dict)\n",
    "\n",
    "zipping = dict(zip(Letters,Numbers))\n",
    "zipping"
   ]
  },
  {
   "cell_type": "code",
   "execution_count": 13,
   "metadata": {},
   "outputs": [
    {
     "data": {
      "text/plain": [
       "{'A': 1, 'B': 4, 'C': 9, 'D': 16}"
      ]
     },
     "execution_count": 13,
     "metadata": {},
     "output_type": "execute_result"
    }
   ],
   "source": [
    "# Map (dict)\n",
    "\n",
    "mapping = dict(map(lambda x: (x[0],x[1]**2),Zipping.items()))\n",
    "mapping"
   ]
  },
  {
   "cell_type": "code",
   "execution_count": 19,
   "metadata": {},
   "outputs": [
    {
     "data": {
      "text/plain": [
       "[(10, 'A'), (11, 'B'), (12, 'C'), (13, 'D')]"
      ]
     },
     "execution_count": 19,
     "metadata": {},
     "output_type": "execute_result"
    }
   ],
   "source": [
    "#Enumerate (list)\n",
    "\n",
    "enumerated = list(enumerate(Letters,10))\n",
    "enumerated"
   ]
  },
  {
   "cell_type": "code",
   "execution_count": 21,
   "metadata": {},
   "outputs": [
    {
     "data": {
      "text/plain": [
       "{10: 'A', 11: 'B', 12: 'C', 13: 'D'}"
      ]
     },
     "execution_count": 21,
     "metadata": {},
     "output_type": "execute_result"
    }
   ],
   "source": [
    "#Enumerate (dict)\n",
    "\n",
    "enumerated = dict(enumerate(Letters,10))\n",
    "enumerated"
   ]
  },
  {
   "cell_type": "markdown",
   "metadata": {},
   "source": [
    " # Iterator\n",
    "\n",
    "## Iterator Protocol:\n",
    "The Iterator Protocol requires iterators to implement two methods:\n",
    "- `__iter__()`: Returns the iterator object itself and is essential to make the object iterable. Typically, it returns `self`.\n",
    "- `__next__()`: Returns the next element in the sequence and raises a `StopIteration` exception when no more elements are available.\n",
    "\n",
    "## Iterable Objects:\n",
    "Any object that implements the `__iter__()` method is considered iterable. This includes built-in types (lists, tuples, dictionaries, sets) and custom objects.\n",
    "Iterables can be used in `for` loops and other constructs that expect a sequence of elements.\n",
    "\n",
    "## Iterator Objects:\n",
    "Iterator objects are created from iterable objects using the `iter()` function, which calls the iterable object's `__iter__()` method to obtain an iterator.\n",
    "Iterators are used to traverse the elements of a sequence one by one. They maintain internal state to keep track of the current position in the sequence.\n",
    "\n",
    "## Lazy Evaluation:\n",
    "Iterators support lazy evaluation, meaning elements are generated on-demand as you iterate over them. This allows for efficient memory usage, especially with large or infinite sequences.\n"
   ]
  },
  {
   "cell_type": "code",
   "execution_count": 31,
   "metadata": {},
   "outputs": [],
   "source": [
    "#Iterator\n",
    "\n",
    "Letters = [\"A\",\"B\",\"C\",\"D\"] # Built-in iterables: Lists, tuples, dictionaries, sets, strings, files, etc.\n",
    "String  = \"VROR\"\n",
    "Iterator_Letters = iter(Letters)\n",
    "Iterator_String = iter(String)"
   ]
  },
  {
   "cell_type": "code",
   "execution_count": 32,
   "metadata": {},
   "outputs": [
    {
     "name": "stdout",
     "output_type": "stream",
     "text": [
      "A\n"
     ]
    }
   ],
   "source": [
    "print(next(Iterator_Letters))"
   ]
  },
  {
   "cell_type": "code",
   "execution_count": 36,
   "metadata": {},
   "outputs": [
    {
     "name": "stdout",
     "output_type": "stream",
     "text": [
      "R\n"
     ]
    }
   ],
   "source": [
    "print(next(Iterator_String))"
   ]
  },
  {
   "cell_type": "code",
   "execution_count": 42,
   "metadata": {},
   "outputs": [],
   "source": [
    "class SequenceIterator:\n",
    "    def __init__(self, sequence):\n",
    "        self._sequence = sequence\n",
    "        self._index = 0\n",
    "\n",
    "    def __iter__(self):\n",
    "        return self\n",
    "\n",
    "    def __next__(self):\n",
    "        if self._index < len(self._sequence):\n",
    "            item = self._sequence[self._index]\n",
    "            self._index += 1\n",
    "            return item\n",
    "        else:\n",
    "            raise StopIteration\n"
   ]
  },
  {
   "cell_type": "code",
   "execution_count": 50,
   "metadata": {},
   "outputs": [],
   "source": [
    "sequence = SequenceIterator([1,2,3,4])\n",
    "iterator = sequence.__iter__()"
   ]
  },
  {
   "cell_type": "code",
   "execution_count": null,
   "metadata": {},
   "outputs": [],
   "source": []
  }
 ],
 "metadata": {
  "kernelspec": {
   "display_name": "Python 3",
   "language": "python",
   "name": "python3"
  },
  "language_info": {
   "codemirror_mode": {
    "name": "ipython",
    "version": 3
   },
   "file_extension": ".py",
   "mimetype": "text/x-python",
   "name": "python",
   "nbconvert_exporter": "python",
   "pygments_lexer": "ipython3",
   "version": "3.8.5"
  }
 },
 "nbformat": 4,
 "nbformat_minor": 4
}
