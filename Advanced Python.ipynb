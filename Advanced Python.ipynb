{
 "cells": [
  {
   "cell_type": "markdown",
   "metadata": {},
   "source": [
    "# Advanced Python"
   ]
  },
  {
   "cell_type": "code",
   "execution_count": 6,
   "metadata": {},
   "outputs": [],
   "source": [
    "Letters = [\"A\",\"B\",\"C\",\"D\"]\n",
    "Numbers = [1, 2, 3, 4]"
   ]
  },
  {
   "cell_type": "code",
   "execution_count": 8,
   "metadata": {},
   "outputs": [
    {
     "data": {
      "text/plain": [
       "[1, 4, 9, 16]"
      ]
     },
     "execution_count": 8,
     "metadata": {},
     "output_type": "execute_result"
    }
   ],
   "source": [
    "# Map (list)\n",
    "mapping = list(map(lambda x: x**2,Numbers))\n",
    "mapping"
   ]
  },
  {
   "cell_type": "code",
   "execution_count": 10,
   "metadata": {},
   "outputs": [
    {
     "data": {
      "text/plain": [
       "[('A', 1), ('B', 2), ('C', 3), ('D', 4)]"
      ]
     },
     "execution_count": 10,
     "metadata": {},
     "output_type": "execute_result"
    }
   ],
   "source": [
    "# Zip (list)\n",
    "\n",
    "zipping = list(zip(Letters,Numbers))\n",
    "zipping"
   ]
  },
  {
   "cell_type": "code",
   "execution_count": 11,
   "metadata": {},
   "outputs": [
    {
     "data": {
      "text/plain": [
       "{'A': 1, 'B': 2, 'C': 3, 'D': 4}"
      ]
     },
     "execution_count": 11,
     "metadata": {},
     "output_type": "execute_result"
    }
   ],
   "source": [
    "# Zip (dict)\n",
    "\n",
    "zipping = dict(zip(Letters,Numbers))\n",
    "zipping"
   ]
  },
  {
   "cell_type": "code",
   "execution_count": 13,
   "metadata": {},
   "outputs": [
    {
     "data": {
      "text/plain": [
       "{'A': 1, 'B': 4, 'C': 9, 'D': 16}"
      ]
     },
     "execution_count": 13,
     "metadata": {},
     "output_type": "execute_result"
    }
   ],
   "source": [
    "# Map (dict)\n",
    "\n",
    "mapping = dict(map(lambda x: (x[0],x[1]**2),Zipping.items()))\n",
    "mapping"
   ]
  },
  {
   "cell_type": "code",
   "execution_count": 19,
   "metadata": {},
   "outputs": [
    {
     "data": {
      "text/plain": [
       "[(10, 'A'), (11, 'B'), (12, 'C'), (13, 'D')]"
      ]
     },
     "execution_count": 19,
     "metadata": {},
     "output_type": "execute_result"
    }
   ],
   "source": [
    "#Enumerate (list)\n",
    "\n",
    "enumerated = list(enumerate(Letters,10))\n",
    "enumerated"
   ]
  },
  {
   "cell_type": "code",
   "execution_count": 21,
   "metadata": {},
   "outputs": [
    {
     "data": {
      "text/plain": [
       "{10: 'A', 11: 'B', 12: 'C', 13: 'D'}"
      ]
     },
     "execution_count": 21,
     "metadata": {},
     "output_type": "execute_result"
    }
   ],
   "source": [
    "#Enumerate (dict)\n",
    "\n",
    "enumerated = dict(enumerate(Letters,10))\n",
    "enumerated"
   ]
  },
  {
   "cell_type": "markdown",
   "metadata": {},
   "source": [
    " # Iterator\n",
    "\n",
    "## Iterator Protocol:\n",
    "The Iterator Protocol requires iterators to implement two methods:\n",
    "- `__iter__()`: Returns the iterator object itself and is essential to make the object iterable. Typically, it returns `self`.\n",
    "- `__next__()`: Returns the next element in the sequence and raises a `StopIteration` exception when no more elements are available.\n",
    "\n",
    "## Iterable Objects:\n",
    "Any object that implements the `__iter__()` method is considered iterable. This includes built-in types (lists, tuples, dictionaries, sets) and custom objects.\n",
    "Iterables can be used in `for` loops and other constructs that expect a sequence of elements.\n",
    "\n",
    "## Iterator Objects:\n",
    "Iterator objects are created from iterable objects using the `iter()` function, which calls the iterable object's `__iter__()` method to obtain an iterator.\n",
    "Iterators are used to traverse the elements of a sequence one by one. They maintain internal state to keep track of the current position in the sequence.\n",
    "\n",
    "## Lazy Evaluation:\n",
    "Iterators support lazy evaluation, meaning elements are generated on-demand as you iterate over them. This allows for efficient memory usage, especially with large or infinite sequences.\n"
   ]
  },
  {
   "cell_type": "code",
   "execution_count": 31,
   "metadata": {},
   "outputs": [],
   "source": [
    "#Iterator\n",
    "\n",
    "Letters = [\"A\",\"B\",\"C\",\"D\"] # Built-in iterables: Lists, tuples, dictionaries, sets, strings, files, etc.\n",
    "String  = \"VROR\"\n",
    "Iterator_Letters = iter(Letters)\n",
    "Iterator_String = iter(String)"
   ]
  },
  {
   "cell_type": "code",
   "execution_count": 32,
   "metadata": {},
   "outputs": [
    {
     "name": "stdout",
     "output_type": "stream",
     "text": [
      "A\n"
     ]
    }
   ],
   "source": [
    "print(next(Iterator_Letters))"
   ]
  },
  {
   "cell_type": "code",
   "execution_count": 36,
   "metadata": {},
   "outputs": [
    {
     "name": "stdout",
     "output_type": "stream",
     "text": [
      "R\n"
     ]
    }
   ],
   "source": [
    "print(next(Iterator_String))"
   ]
  },
  {
   "cell_type": "code",
   "execution_count": 42,
   "metadata": {},
   "outputs": [],
   "source": [
    "class SequenceIterator:\n",
    "    def __init__(self, sequence):\n",
    "        self._sequence = sequence\n",
    "        self._index = 0\n",
    "\n",
    "    def __iter__(self):\n",
    "        return self\n",
    "\n",
    "    def __next__(self):\n",
    "        if self._index < len(self._sequence):\n",
    "            item = self._sequence[self._index]\n",
    "            self._index += 1\n",
    "            return item\n",
    "        else:\n",
    "            raise StopIteration\n"
   ]
  },
  {
   "cell_type": "code",
   "execution_count": 55,
   "metadata": {},
   "outputs": [
    {
     "name": "stdout",
     "output_type": "stream",
     "text": [
      "1\n",
      "2\n"
     ]
    }
   ],
   "source": [
    "sequence = SequenceIterator([1,2,3,4])\n",
    "iterator = sequence.__iter__()\n",
    "print(iterator.__next__())\n",
    "print(iterator.__next__())"
   ]
  },
  {
   "cell_type": "markdown",
   "metadata": {},
   "source": [
    "# Genrator\n"
   ]
  },
  {
   "cell_type": "code",
   "execution_count": 57,
   "metadata": {},
   "outputs": [
    {
     "name": "stdout",
     "output_type": "stream",
     "text": [
      "first\n",
      "1\n",
      "second\n",
      "2\n",
      "last\n",
      "3\n"
     ]
    }
   ],
   "source": [
    "def mygen():\n",
    "    n =1\n",
    "    print(\"first\")\n",
    "    yield n\n",
    "    n +=1\n",
    "    print(\"second\")\n",
    "    yield n\n",
    "    n +=1\n",
    "    print(\"last\")\n",
    "    yield n\n",
    "    \n",
    "for i in mygen():\n",
    "    print(i)\n",
    "    "
   ]
  },
  {
   "cell_type": "markdown",
   "metadata": {},
   "source": [
    "# Profiling\n",
    "- Less Effort , Big performance gain!\n",
    "- Resource can measure, can be Profiled"
   ]
  },
  {
   "cell_type": "code",
   "execution_count": 59,
   "metadata": {},
   "outputs": [
    {
     "name": "stdout",
     "output_type": "stream",
     "text": [
      "Hello World!\n",
      "Time Conused : 0.00014972686767578125\n"
     ]
    }
   ],
   "source": [
    "# 1. Timers\n",
    "import time\n",
    "start = time.time()\n",
    "print(\"Hello World!\")\n",
    "end = time.time()\n",
    "print(f\"Time Conused : {end-start}\")\n"
   ]
  },
  {
   "cell_type": "code",
   "execution_count": 69,
   "metadata": {},
   "outputs": [
    {
     "name": "stdout",
     "output_type": "stream",
     "text": [
      "Time Conused : 5.602836608886719e-05\n"
     ]
    }
   ],
   "source": [
    "def sample():\n",
    "    a = 1+2\n",
    "    b = 3*2\n",
    "    c = a+b\n",
    "    d = c/b\n",
    "    return d\n",
    "\n",
    "start = time.time()\n",
    "sample()\n",
    "end   = time.time()\n",
    "print(f\"Time Conused : {end-start}\")"
   ]
  },
  {
   "cell_type": "code",
   "execution_count": 70,
   "metadata": {},
   "outputs": [
    {
     "name": "stdout",
     "output_type": "stream",
     "text": [
      "Time Conused : 4.696846008300781e-05\n"
     ]
    }
   ],
   "source": [
    "def sample():\n",
    "    a = 1+2\n",
    "    b = 3*2\n",
    "    d = (a+b)/b # after Optimized \n",
    "    return d\n",
    "\n",
    "start = time.time()\n",
    "sample()\n",
    "end   = time.time()\n",
    "print(f\"Time Conused : {end-start}\")"
   ]
  },
  {
   "cell_type": "code",
   "execution_count": 74,
   "metadata": {},
   "outputs": [
    {
     "name": "stdout",
     "output_type": "stream",
     "text": [
      "Hello world!\n",
      "         39 function calls in 0.000 seconds\n",
      "\n",
      "   Ordered by: standard name\n",
      "\n",
      "   ncalls  tottime  percall  cumtime  percall filename:lineno(function)\n",
      "        1    0.000    0.000    0.000    0.000 <ipython-input-74-60df7b8509a1>:4(fun)\n",
      "        1    0.000    0.000    0.000    0.000 <string>:1(<module>)\n",
      "        3    0.000    0.000    0.000    0.000 iostream.py:197(schedule)\n",
      "        2    0.000    0.000    0.000    0.000 iostream.py:310(_is_master_process)\n",
      "        2    0.000    0.000    0.000    0.000 iostream.py:323(_schedule_flush)\n",
      "        2    0.000    0.000    0.000    0.000 iostream.py:386(write)\n",
      "        3    0.000    0.000    0.000    0.000 iostream.py:93(_event_pipe)\n",
      "        3    0.000    0.000    0.000    0.000 socket.py:357(send)\n",
      "        3    0.000    0.000    0.000    0.000 threading.py:1017(_wait_for_tstate_lock)\n",
      "        3    0.000    0.000    0.000    0.000 threading.py:1071(is_alive)\n",
      "        3    0.000    0.000    0.000    0.000 threading.py:513(is_set)\n",
      "        1    0.000    0.000    0.000    0.000 {built-in method builtins.exec}\n",
      "        2    0.000    0.000    0.000    0.000 {built-in method builtins.isinstance}\n",
      "        1    0.000    0.000    0.000    0.000 {built-in method builtins.print}\n",
      "        2    0.000    0.000    0.000    0.000 {built-in method posix.getpid}\n",
      "        3    0.000    0.000    0.000    0.000 {method 'acquire' of '_thread.lock' objects}\n",
      "        3    0.000    0.000    0.000    0.000 {method 'append' of 'collections.deque' objects}\n",
      "        1    0.000    0.000    0.000    0.000 {method 'disable' of '_lsprof.Profiler' objects}\n",
      "\n",
      "\n"
     ]
    }
   ],
   "source": [
    "# 2. cProfile\n",
    "import cProfile\n",
    "\n",
    "def fun():\n",
    "    print(\"Hello world!\")\n",
    "    \n",
    "cProfile.run('fun()')\n"
   ]
  },
  {
   "cell_type": "code",
   "execution_count": 82,
   "metadata": {},
   "outputs": [
    {
     "name": "stdout",
     "output_type": "stream",
     "text": [
      "hello world\n",
      "Timer unit: 1e-09 s\n",
      "\n",
      "Total time: 0.000187671 s\n",
      "File: <ipython-input-82-6150b36b9482>\n",
      "Function: fun at line 4\n",
      "\n",
      "Line #      Hits         Time  Per Hit   % Time  Line Contents\n",
      "==============================================================\n",
      "     4                                           def fun(message):\n",
      "     5         1     187671.0 187671.0    100.0      print(message)\n",
      "\n"
     ]
    }
   ],
   "source": [
    "# 3. lineProfiler\n",
    "from line_profiler  import LineProfiler\n",
    "\n",
    "def fun(message):\n",
    "    print(message)\n",
    "    \n",
    "message = \"hello world\"\n",
    "\n",
    "profile = LineProfiler(fun)\n",
    "\n",
    "with profile:\n",
    "    fun(message)\n",
    "\n",
    "profile.print_stats()"
   ]
  },
  {
   "cell_type": "code",
   "execution_count": null,
   "metadata": {},
   "outputs": [],
   "source": []
  }
 ],
 "metadata": {
  "kernelspec": {
   "display_name": "Python 3",
   "language": "python",
   "name": "python3"
  },
  "language_info": {
   "codemirror_mode": {
    "name": "ipython",
    "version": 3
   },
   "file_extension": ".py",
   "mimetype": "text/x-python",
   "name": "python",
   "nbconvert_exporter": "python",
   "pygments_lexer": "ipython3",
   "version": "3.8.5"
  }
 },
 "nbformat": 4,
 "nbformat_minor": 4
}
