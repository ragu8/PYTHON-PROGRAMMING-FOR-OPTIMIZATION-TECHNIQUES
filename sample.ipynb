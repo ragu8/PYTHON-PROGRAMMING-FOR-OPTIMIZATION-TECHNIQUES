{
 "cells": [
  {
   "cell_type": "code",
   "execution_count": 2,
   "metadata": {},
   "outputs": [
    {
     "name": "stdout",
     "output_type": "stream",
     "text": [
      "hello Iam yogesh\n"
     ]
    }
   ],
   "source": [
    "msg=\"hello Iam yogesh\"\n",
    "print(msg)"
   ]
  },
  {
   "cell_type": "code",
   "execution_count": 3,
   "metadata": {},
   "outputs": [
    {
     "name": "stdout",
     "output_type": "stream",
     "text": [
      "<class 'str'>\n"
     ]
    }
   ],
   "source": [
    "print(type(msg))"
   ]
  },
  {
   "cell_type": "code",
   "execution_count": 4,
   "metadata": {},
   "outputs": [
    {
     "name": "stdout",
     "output_type": "stream",
     "text": [
      "Hello Iam Yogesh\n"
     ]
    }
   ],
   "source": [
    "print(msg.title())"
   ]
  },
  {
   "cell_type": "code",
   "execution_count": 5,
   "metadata": {},
   "outputs": [
    {
     "ename": "NameError",
     "evalue": "name 'name' is not defined",
     "output_type": "error",
     "traceback": [
      "\u001b[0;31m---------------------------------------------------------------------------\u001b[0m",
      "\u001b[0;31mNameError\u001b[0m                                 Traceback (most recent call last)",
      "Cell \u001b[0;32mIn[5], line 1\u001b[0m\n\u001b[0;32m----> 1\u001b[0m \u001b[38;5;28mprint\u001b[39m(\u001b[43mname\u001b[49m\u001b[38;5;241m.\u001b[39mupper())\n\u001b[1;32m      2\u001b[0m \u001b[38;5;28mprint\u001b[39m(name\u001b[38;5;241m.\u001b[39mlower()) \u001b[38;5;66;03m#method\u001b[39;00m\n",
      "\u001b[0;31mNameError\u001b[0m: name 'name' is not defined"
     ]
    }
   ],
   "source": [
    "print(name.upper())\n",
    "print(name.lower()) #method"
   ]
  },
  {
   "cell_type": "code",
   "execution_count": 6,
   "metadata": {},
   "outputs": [
    {
     "name": "stdout",
     "output_type": "stream",
     "text": [
      "HELLO IAM YOGESH\n",
      "hello iam yogesh\n"
     ]
    }
   ],
   "source": [
    "print(msg.upper())\n",
    "print(msg.lower())"
   ]
  },
  {
   "cell_type": "code",
   "execution_count": 7,
   "metadata": {},
   "outputs": [
    {
     "name": "stdout",
     "output_type": "stream",
     "text": [
      "sathiya priya\n"
     ]
    }
   ],
   "source": [
    "# string concatenation\n",
    "first_name=\"sathiya\"\n",
    "second_name=\"priya\"\n",
    "full_name=first_name+second_name\n",
    "full_name=first_name+ \" \"+second_name\n",
    "print(full_name)"
   ]
  },
  {
   "cell_type": "code",
   "execution_count": 8,
   "metadata": {},
   "outputs": [
    {
     "name": "stdout",
     "output_type": "stream",
     "text": [
      "Sathiya Priya\n"
     ]
    }
   ],
   "source": [
    "print(full_name.title())"
   ]
  },
  {
   "cell_type": "code",
   "execution_count": 9,
   "metadata": {},
   "outputs": [
    {
     "name": "stdout",
     "output_type": "stream",
     "text": [
      "languages:\n",
      "\tpython\n",
      "\tjava\n",
      "\tc\n",
      "\tcpp\n",
      "\tsql\n",
      "\thtml\n"
     ]
    }
   ],
   "source": [
    "#whitespace,tabs,newlines\n",
    "print(\"languages:\\n\\tpython\\n\\tjava\\n\\tc\\n\\tcpp\\n\\tsql\\n\\thtml\")"
   ]
  },
  {
   "cell_type": "code",
   "execution_count": null,
   "metadata": {},
   "outputs": [],
   "source": []
  },
  {
   "cell_type": "code",
   "execution_count": null,
   "metadata": {},
   "outputs": [],
   "source": [
    "a=2\n",
    "a=a+3\n",
    "print(a)"
   ]
  },
  {
   "cell_type": "code",
   "execution_count": null,
   "metadata": {},
   "outputs": [],
   "source": [
    "a=\"5\"\n",
    "b=10\n",
    "print(a+b)"
   ]
  },
  {
   "cell_type": "code",
   "execution_count": null,
   "metadata": {},
   "outputs": [],
   "source": [
    "int a=\"5\"\n",
    "b=10\n",
    "print(a+b)"
   ]
  },
  {
   "cell_type": "code",
   "execution_count": null,
   "metadata": {},
   "outputs": [],
   "source": []
  },
  {
   "cell_type": "code",
   "execution_count": 10,
   "metadata": {},
   "outputs": [
    {
     "name": "stdout",
     "output_type": "stream",
     "text": [
      "15\n"
     ]
    }
   ],
   "source": [
    "#type casting\n",
    "a=\"5\"\n",
    "b=10\n",
    "print(int(a)+b)\n"
   ]
  },
  {
   "cell_type": "code",
   "execution_count": 11,
   "metadata": {},
   "outputs": [
    {
     "name": "stdout",
     "output_type": "stream",
     "text": [
      "<class 'int'>\n"
     ]
    }
   ],
   "source": [
    "a=5\n",
    "print(type(a))"
   ]
  },
  {
   "cell_type": "code",
   "execution_count": 12,
   "metadata": {},
   "outputs": [
    {
     "name": "stdout",
     "output_type": "stream",
     "text": [
      "<class 'float'>\n"
     ]
    }
   ],
   "source": [
    "a=5.9999\n",
    "print(type(a))"
   ]
  },
  {
   "cell_type": "code",
   "execution_count": 13,
   "metadata": {},
   "outputs": [
    {
     "name": "stdout",
     "output_type": "stream",
     "text": [
      "5.0\n",
      "5\n",
      "0\n"
     ]
    }
   ],
   "source": [
    "   #operators\n",
    "x=20\n",
    "y=4\n",
    "print(x/y)\n",
    "print(x//y) #quotient\n",
    "print(x%y)  #remainder"
   ]
  },
  {
   "cell_type": "code",
   "execution_count": null,
   "metadata": {},
   "outputs": [],
   "source": [
    "x=5\n",
    "y=3\n",
    "x,y=y,x\n",
    "print(x,y)"
   ]
  },
  {
   "cell_type": "code",
   "execution_count": null,
   "metadata": {},
   "outputs": [],
   "source": [
    "x=5\n",
    "y=3\n",
    "tmp=x\n",
    "x=y\n",
    "y=x\n",
    "\n",
    "print(x,y)\n"
   ]
  },
  {
   "cell_type": "code",
   "execution_count": null,
   "metadata": {},
   "outputs": [],
   "source": [
    "#lists\n",
    "name=[\"priya\",\"nithyaRagu\",\"renu\",\"ram\",\"shanu\"]\n",
    "print(name)"
   ]
  },
  {
   "cell_type": "code",
   "execution_count": null,
   "metadata": {},
   "outputs": [],
   "source": [
    "print(name[0:2])"
   ]
  },
  {
   "cell_type": "code",
   "execution_count": null,
   "metadata": {},
   "outputs": [],
   "source": [
    "print(name[1::])"
   ]
  },
  {
   "cell_type": "code",
   "execution_count": null,
   "metadata": {},
   "outputs": [],
   "source": [
    "print(name[2:5:1])"
   ]
  },
  {
   "cell_type": "code",
   "execution_count": null,
   "metadata": {},
   "outputs": [],
   "source": [
    "print(name[::2])"
   ]
  },
  {
   "cell_type": "code",
   "execution_count": 14,
   "metadata": {},
   "outputs": [
    {
     "name": "stdout",
     "output_type": "stream",
     "text": [
      "[1, 4, 20, 56, 23, 'hello', 6.9, 'python', 80]\n",
      "[80, 'python', 6.9, 'hello', 23, 56, 20, 4, 1]\n"
     ]
    }
   ],
   "source": [
    "a_list=[1,4,20,56,23,\"hello\",6.9,\"python\",80]\n",
    "print(a_list)\n",
    "a_list.reverse()\n",
    "print(a_list)"
   ]
  },
  {
   "cell_type": "code",
   "execution_count": 16,
   "metadata": {},
   "outputs": [
    {
     "ename": "TypeError",
     "evalue": "'<' not supported between instances of 'str' and 'int'",
     "output_type": "error",
     "traceback": [
      "\u001b[0;31m---------------------------------------------------------------------------\u001b[0m",
      "\u001b[0;31mTypeError\u001b[0m                                 Traceback (most recent call last)",
      "Cell \u001b[0;32mIn[16], line 1\u001b[0m\n\u001b[0;32m----> 1\u001b[0m \u001b[43ma_list\u001b[49m\u001b[38;5;241;43m.\u001b[39;49m\u001b[43msort\u001b[49m\u001b[43m(\u001b[49m\u001b[43m)\u001b[49m\n",
      "\u001b[0;31mTypeError\u001b[0m: '<' not supported between instances of 'str' and 'int'"
     ]
    }
   ],
   "source": [
    "a_list.sort()"
   ]
  },
  {
   "cell_type": "code",
   "execution_count": 17,
   "metadata": {},
   "outputs": [
    {
     "ename": "NameError",
     "evalue": "name 'name' is not defined",
     "output_type": "error",
     "traceback": [
      "\u001b[0;31m---------------------------------------------------------------------------\u001b[0m",
      "\u001b[0;31mNameError\u001b[0m                                 Traceback (most recent call last)",
      "Cell \u001b[0;32mIn[17], line 1\u001b[0m\n\u001b[0;32m----> 1\u001b[0m \u001b[43mname\u001b[49m\u001b[38;5;241m.\u001b[39msort()\n\u001b[1;32m      2\u001b[0m \u001b[38;5;28mprint\u001b[39m(name)\n",
      "\u001b[0;31mNameError\u001b[0m: name 'name' is not defined"
     ]
    }
   ],
   "source": [
    "name.sort()\n",
    "print(name)\n"
   ]
  },
  {
   "cell_type": "code",
   "execution_count": null,
   "metadata": {},
   "outputs": [],
   "source": [
    "name.remove(name[4])\n",
    "print(name)"
   ]
  },
  {
   "cell_type": "code",
   "execution_count": null,
   "metadata": {},
   "outputs": [],
   "source": [
    "name.remove(4)\n",
    "print(name)"
   ]
  },
  {
   "cell_type": "code",
   "execution_count": null,
   "metadata": {},
   "outputs": [],
   "source": [
    "name.remove(ram)\n",
    "print(name)"
   ]
  },
  {
   "cell_type": "code",
   "execution_count": null,
   "metadata": {},
   "outputs": [],
   "source": [
    "name.remove(\"ram\")\n",
    "print(name)"
   ]
  },
  {
   "cell_type": "code",
   "execution_count": null,
   "metadata": {},
   "outputs": [],
   "source": [
    "name.remove(\"ram\")\n",
    "print(name)\n"
   ]
  },
  {
   "cell_type": "code",
   "execution_count": null,
   "metadata": {},
   "outputs": [],
   "source": [
    "b_list=[23,34,56,67,12,59,70,41,93,80,33]\n",
    "print(b_list)"
   ]
  },
  {
   "cell_type": "code",
   "execution_count": null,
   "metadata": {},
   "outputs": [],
   "source": [
    "print(b_list.reverse())"
   ]
  },
  {
   "cell_type": "code",
   "execution_count": null,
   "metadata": {},
   "outputs": [],
   "source": [
    "b_list.reverse()\n",
    "print(b_list)"
   ]
  },
  {
   "cell_type": "code",
   "execution_count": null,
   "metadata": {},
   "outputs": [],
   "source": [
    "b_list.reverse()\n",
    "print(b_list)"
   ]
  },
  {
   "cell_type": "code",
   "execution_count": null,
   "metadata": {},
   "outputs": [],
   "source": [
    "b_list.remove(67)\n",
    "print(b_list)"
   ]
  },
  {
   "cell_type": "code",
   "execution_count": null,
   "metadata": {},
   "outputs": [],
   "source": [
    "b_list.append(10)\n",
    "print(b_list)"
   ]
  },
  {
   "cell_type": "code",
   "execution_count": null,
   "metadata": {},
   "outputs": [],
   "source": [
    "b_list.insert(0,1)\n",
    "print(b_list)"
   ]
  },
  {
   "cell_type": "code",
   "execution_count": null,
   "metadata": {},
   "outputs": [],
   "source": [
    "b_list.remove(10)\n",
    "print(b_list)"
   ]
  },
  {
   "cell_type": "code",
   "execution_count": null,
   "metadata": {},
   "outputs": [],
   "source": [
    "b_list.insert(2,11)\n",
    "print(b_list)"
   ]
  },
  {
   "cell_type": "code",
   "execution_count": null,
   "metadata": {},
   "outputs": [],
   "source": [
    "b_list.remove(b_list[2])\n",
    "print(b_list)"
   ]
  },
  {
   "cell_type": "markdown",
   "metadata": {},
   "source": [
    "Write a program to print the numbers divisible by 7 and lying between the given limits."
   ]
  },
  {
   "cell_type": "code",
   "execution_count": 18,
   "metadata": {},
   "outputs": [
    {
     "name": "stdout",
     "output_type": "stream",
     "text": [
      "10\n",
      "11\n",
      "12\n",
      "13\n",
      "14\n",
      "15\n",
      "16\n",
      "17\n",
      "18\n",
      "19\n",
      "20\n"
     ]
    }
   ],
   "source": [
    "start=10\n",
    "end=20\n",
    "for limit in range(start,end+1):\n",
    "    print(limit)"
   ]
  },
  {
   "cell_type": "code",
   "execution_count": 19,
   "metadata": {},
   "outputs": [
    {
     "name": "stdout",
     "output_type": "stream",
     "text": [
      "7\n",
      "14\n",
      "21\n",
      "28\n"
     ]
    }
   ],
   "source": [
    "start,end=5,30\n",
    "for limit in range(start,end+1):\n",
    "    if limit %7==0:\n",
    "        print(limit)"
   ]
  },
  {
   "cell_type": "code",
   "execution_count": 21,
   "metadata": {},
   "outputs": [],
   "source": [
    "def div_7(start,end):\n",
    "    for limit in range(start,end+1):\n",
    "        if limit %3==0 and limit %5==0:\n",
    "            print(f\"{limit} is divisible by three & five\")\n",
    "        elif limit %3==0:\n",
    "            print(f\"{limit} is divisible by Three\")\n",
    "        elif limit %5==0:\n",
    "            print(f\"{limit} is divisible by Five\")"
   ]
  },
  {
   "cell_type": "code",
   "execution_count": 22,
   "metadata": {},
   "outputs": [
    {
     "name": "stdin",
     "output_type": "stream",
     "text": [
      "Enter starting value 10\n",
      "Enter end value 30\n"
     ]
    },
    {
     "name": "stdout",
     "output_type": "stream",
     "text": [
      "10 is divisible by Five\n",
      "12 is divisible by Three\n",
      "15 is divisible by three & five\n",
      "18 is divisible by Three\n",
      "20 is divisible by Five\n",
      "21 is divisible by Three\n",
      "24 is divisible by Three\n",
      "25 is divisible by Five\n",
      "27 is divisible by Three\n",
      "30 is divisible by three & five\n"
     ]
    }
   ],
   "source": [
    "start=int(input(\"Enter starting value\"))\n",
    "end=int(input(\"Enter end value\"))\n",
    "div_7(start,end)"
   ]
  },
  {
   "cell_type": "markdown",
   "metadata": {},
   "source": [
    "*****\n",
    "*   *\n",
    "*   *\n",
    "*   *\n",
    "*****"
   ]
  },
  {
   "cell_type": "code",
   "execution_count": null,
   "metadata": {},
   "outputs": [],
   "source": [
    "\n",
    "for i in range(1,row+1):\n",
    "    for j in range(1,column+1):\n",
    "        if i==1 or i==row or j==1 or j==column:\n",
    "            print(\"*\",end=\"\")\n",
    "        else :\n",
    "            print(\" \",end=\"\")\n",
    "    print()"
   ]
  },
  {
   "cell_type": "code",
   "execution_count": null,
   "metadata": {},
   "outputs": [],
   "source": [
    "def hollow():\n",
    "    row=int(input(\"Enter the no of rows\"))\n",
    "    column=int(input(\"Enter th no of columns\"))\n",
    "    for i in range(1,row+1):\n",
    "        for j in range(1,column+1):\n",
    "            if i==1 or i==row or j==1 or j==column:\n",
    "                print(\"*\",end=\"\")\n",
    "            else :\n",
    "                print(\" \",end=\"\")\n",
    "        print()\n",
    "            \n",
    "        \n",
    "    "
   ]
  },
  {
   "cell_type": "code",
   "execution_count": null,
   "metadata": {},
   "outputs": [],
   "source": [
    "hollow()"
   ]
  },
  {
   "cell_type": "code",
   "execution_count": null,
   "metadata": {},
   "outputs": [],
   "source": [
    "sq=[]\n",
    "for i in range(1,10):\n",
    "    square=i**2\n",
    "    sq.append(square)\n",
    "print(sq)"
   ]
  },
  {
   "cell_type": "code",
   "execution_count": null,
   "metadata": {},
   "outputs": [],
   "source": [
    "sq=[i**2 for i in range(1,10)]\n",
    "print(sq)"
   ]
  },
  {
   "cell_type": "code",
   "execution_count": null,
   "metadata": {},
   "outputs": [],
   "source": [
    "for i in range(1,21):\n",
    "    print(i)"
   ]
  },
  {
   "cell_type": "code",
   "execution_count": null,
   "metadata": {},
   "outputs": [],
   "source": [
    "num=[i for i in range(1,10000)]\n",
    "print(num)\n"
   ]
  },
  {
   "cell_type": "code",
   "execution_count": null,
   "metadata": {},
   "outputs": [],
   "source": [
    "num=[]\n",
    "for i in range(1,1000):\n",
    "    num.append(i)\n",
    "print(max(num))"
   ]
  },
  {
   "cell_type": "code",
   "execution_count": null,
   "metadata": {},
   "outputs": [],
   "source": [
    "num=list(range(1,10))\n",
    "for i in range:\n",
    "    print(i)"
   ]
  },
  {
   "cell_type": "code",
   "execution_count": null,
   "metadata": {},
   "outputs": [],
   "source": [
    "odd_num=list(range(1,21,2))\n",
    "print(sum(odd_num))\n",
    "eve_num=list(range(2,22,2))\n",
    "print(eve_num)"
   ]
  },
  {
   "cell_type": "code",
   "execution_count": null,
   "metadata": {},
   "outputs": [],
   "source": [
    "def sum_odd_even(n):\n",
    "    odd,even=0,0\n",
    "    for i in range(1,n+1):\n",
    "        if i%2==0:\n",
    "            even=even+i #even +=i\n",
    "            print(i)\n",
    "            print(even)\n",
    "        else:\n",
    "            odd +=i\n",
    "    return f\"sum of odd={odd} sum of even={even}\"\n",
    "sum_odd_even(10)\n"
   ]
  },
  {
   "cell_type": "code",
   "execution_count": null,
   "metadata": {},
   "outputs": [],
   "source": [
    "flag=False\n",
    "number=11\n",
    "for i in range(2,number):\n",
    "    if number%i==0:\n",
    "        print(i)\n",
    "        flag=True\n",
    "if flag:\n",
    "    print(f\"{number} is not a prime\")\n",
    "else:\n",
    "    print(f\"{number} is prime\")"
   ]
  },
  {
   "cell_type": "code",
   "execution_count": null,
   "metadata": {},
   "outputs": [],
   "source": [
    "def sum_of_odd(n):\n",
    "    odd=0\n",
    "    for i in range(1,n,2):\n",
    "        odd +=i #odd=odd+i\n",
    "    return odd\n",
    "        "
   ]
  },
  {
   "cell_type": "code",
   "execution_count": null,
   "metadata": {},
   "outputs": [],
   "source": [
    "sum_of_odd(20)"
   ]
  },
  {
   "cell_type": "code",
   "execution_count": null,
   "metadata": {},
   "outputs": [],
   "source": [
    "1+3-5+7-9.....n"
   ]
  },
  {
   "cell_type": "code",
   "execution_count": null,
   "metadata": {},
   "outputs": [],
   "source": [
    "def sum_of_odd(n):\n",
    "    sign=1\n",
    "    odd=1\n",
    "    for i in range(3,n,2):\n",
    "        odd +=sign*i #odd=odd+i\n",
    "        sign=-1\n",
    "    return odd\n",
    "        "
   ]
  },
  {
   "cell_type": "code",
   "execution_count": null,
   "metadata": {},
   "outputs": [],
   "source": [
    "sum_of_odd(12)"
   ]
  },
  {
   "cell_type": "code",
   "execution_count": null,
   "metadata": {},
   "outputs": [],
   "source": [
    "def palindrome(n):\n",
    "    if n==n[::-1]:\n",
    "        print(\"palindrome\")\n",
    "    else:\n",
    "        print(\"Not a palindrome\")"
   ]
  },
  {
   "cell_type": "code",
   "execution_count": null,
   "metadata": {},
   "outputs": [],
   "source": [
    "palindrome(\"madam\")"
   ]
  },
  {
   "cell_type": "code",
   "execution_count": null,
   "metadata": {},
   "outputs": [],
   "source": [
    "n=\"apple\"\n",
    "n[::-1]"
   ]
  },
  {
   "cell_type": "code",
   "execution_count": null,
   "metadata": {},
   "outputs": [],
   "source": [
    "n==n[::-1]"
   ]
  },
  {
   "cell_type": "code",
   "execution_count": null,
   "metadata": {},
   "outputs": [],
   "source": [
    "n.reverse()"
   ]
  },
  {
   "cell_type": "code",
   "execution_count": null,
   "metadata": {},
   "outputs": [],
   "source": [
    "reversed(n)"
   ]
  },
  {
   "cell_type": "code",
   "execution_count": 30,
   "metadata": {},
   "outputs": [
    {
     "name": "stdout",
     "output_type": "stream",
     "text": [
      "elppa\n"
     ]
    }
   ],
   "source": [
    "n=\"apple\"\n",
    "rev=\"\".join(reversed(n))\n",
    "print(rev)\n",
    "    "
   ]
  },
  {
   "cell_type": "code",
   "execution_count": 25,
   "metadata": {},
   "outputs": [],
   "source": [
    "def is_prime(num):\n",
    "    if num<2:\n",
    "        return False\n",
    "    for i in range(2,num):\n",
    "        if num%i==0:\n",
    "            return False\n",
    "    return True"
   ]
  },
  {
   "cell_type": "code",
   "execution_count": 26,
   "metadata": {},
   "outputs": [
    {
     "data": {
      "text/plain": [
       "True"
      ]
     },
     "execution_count": 26,
     "metadata": {},
     "output_type": "execute_result"
    }
   ],
   "source": [
    "is_prime(2)"
   ]
  },
  {
   "cell_type": "code",
   "execution_count": 27,
   "metadata": {},
   "outputs": [],
   "source": [
    "def next_prime(num):\n",
    "    num=num-1\n",
    "    prime_check=is_prime(num)\n",
    "    print(prime_check)\n",
    "    if prime_check:\n",
    "        print(f\"{num} is prime\" )\n",
    "    else:\n",
    "        print(f\"{num} is not prime\")"
   ]
  },
  {
   "cell_type": "code",
   "execution_count": 28,
   "metadata": {},
   "outputs": [
    {
     "name": "stdout",
     "output_type": "stream",
     "text": [
      "False\n",
      "9 is not prime\n"
     ]
    }
   ],
   "source": [
    "next_prime(10)"
   ]
  },
  {
   "cell_type": "code",
   "execution_count": 29,
   "metadata": {},
   "outputs": [
    {
     "name": "stdout",
     "output_type": "stream",
     "text": [
      "10=False\n",
      "11=True\n",
      "12=False\n",
      "13=True\n",
      "14=False\n",
      "15=False\n",
      "16=False\n",
      "17=True\n",
      "18=False\n",
      "19=True\n",
      "20=False\n",
      "21=False\n",
      "22=False\n",
      "23=True\n",
      "24=False\n",
      "25=False\n",
      "26=False\n",
      "27=False\n",
      "28=False\n",
      "29=True\n",
      "30=False\n",
      "31=True\n",
      "32=False\n",
      "33=False\n",
      "34=False\n",
      "35=False\n",
      "36=False\n",
      "37=True\n",
      "38=False\n",
      "39=False\n",
      "40=False\n",
      "41=True\n",
      "42=False\n",
      "43=True\n",
      "44=False\n",
      "45=False\n",
      "46=False\n",
      "47=True\n",
      "48=False\n",
      "49=False\n",
      "50=False\n",
      "51=False\n",
      "52=False\n",
      "53=True\n",
      "54=False\n",
      "55=False\n",
      "56=False\n",
      "57=False\n",
      "58=False\n",
      "59=True\n",
      "60=False\n",
      "61=True\n",
      "62=False\n",
      "63=False\n",
      "64=False\n",
      "65=False\n",
      "66=False\n",
      "67=True\n",
      "68=False\n",
      "69=False\n",
      "70=False\n",
      "71=True\n",
      "72=False\n",
      "73=True\n",
      "74=False\n",
      "75=False\n",
      "76=False\n",
      "77=False\n",
      "78=False\n",
      "79=True\n",
      "80=False\n",
      "81=False\n",
      "82=False\n",
      "83=True\n",
      "84=False\n",
      "85=False\n",
      "86=False\n",
      "87=False\n",
      "88=False\n",
      "89=True\n",
      "90=False\n",
      "91=False\n",
      "92=False\n",
      "93=False\n",
      "94=False\n",
      "95=False\n",
      "96=False\n",
      "97=True\n",
      "98=False\n",
      "99=False\n"
     ]
    }
   ],
   "source": [
    "for i in range(10,100):\n",
    "    print(f\"{i}={is_prime(i)}\")"
   ]
  },
  {
   "cell_type": "markdown",
   "metadata": {},
   "source": [
    "# try some code bro"
   ]
  },
  {
   "cell_type": "markdown",
   "metadata": {},
   "source": [
    "# Necessary\n",
    "\n",
    "if a function f(x) continous unvariate is defined in the interval a<=x<=b and  has a relative minimum at x=x*\n",
    "where a<x*<b and  dervivate df/dx =f`(x) exists as a finite number a E x=x* then f`(x*)=0"
   ]
  },
  {
   "cell_type": "code",
   "execution_count": 1,
   "metadata": {},
   "outputs": [],
   "source": [
    "# Sufficient \n",
    "\n"
   ]
  },
  {
   "cell_type": "code",
   "execution_count": 36,
   "metadata": {},
   "outputs": [],
   "source": [
    "a = [[2, 4, 6], [2, 4, 6], [2, 4, 6]]\n",
    "b = [[2, 2, 6], [12, 4, 6], [2, 4, 5]]\n",
    "\n",
    "c = [[0,0,0],[0,0,0],[0,0,0]]"
   ]
  },
  {
   "cell_type": "code",
   "execution_count": 37,
   "metadata": {},
   "outputs": [
    {
     "name": "stdout",
     "output_type": "stream",
     "text": [
      "[[4, 6, 12], [14, 8, 12], [4, 8, 11]]\n"
     ]
    }
   ],
   "source": [
    "\n",
    "# not optium\n",
    "\n",
    "for i in range(len(a)):\n",
    "    for j in range(len(b)):\n",
    "        c[i][j] = a[i][j] + b[i][j]\n",
    "print(c)"
   ]
  },
  {
   "cell_type": "code",
   "execution_count": 38,
   "metadata": {},
   "outputs": [
    {
     "data": {
      "text/plain": [
       "[[4, 6, 12], [14, 8, 12], [4, 8, 11]]"
      ]
     },
     "execution_count": 38,
     "metadata": {},
     "output_type": "execute_result"
    }
   ],
   "source": [
    "# optium but not better code \n",
    "result = [[a[i][j] + b[i][j]  for j in range(len(a[0]))] for i in range(len(b))]\n",
    "result"
   ]
  },
  {
   "cell_type": "code",
   "execution_count": 42,
   "metadata": {},
   "outputs": [],
   "source": [
    "# Good code\n",
    "def matrix_add(a,b):\n",
    "    if np.shape(a) == np.shape(b):\n",
    "        return [[a[i][j]+ b[i][j] for j in range(len(a[0]))] for i in range(len(b))]\n",
    "    else:\n",
    "        print(f\"matrix shape = {np.shape(a)}\")\n",
    "        print(f\"matrix shape = {np.shape(b)}\")"
   ]
  },
  {
   "cell_type": "code",
   "execution_count": 40,
   "metadata": {},
   "outputs": [
    {
     "data": {
      "application/javascript": [
       "\n",
       "        if (window._pyforest_update_imports_cell) { window._pyforest_update_imports_cell('import numpy as np'); }\n",
       "    "
      ],
      "text/plain": [
       "<IPython.core.display.Javascript object>"
      ]
     },
     "metadata": {},
     "output_type": "display_data"
    },
    {
     "data": {
      "application/javascript": [
       "\n",
       "        if (window._pyforest_update_imports_cell) { window._pyforest_update_imports_cell('import numpy as np'); }\n",
       "    "
      ],
      "text/plain": [
       "<IPython.core.display.Javascript object>"
      ]
     },
     "metadata": {},
     "output_type": "display_data"
    },
    {
     "data": {
      "text/plain": [
       "[[4, 6, 12], [14, 8, 12], [4, 8, 11]]"
      ]
     },
     "execution_count": 40,
     "metadata": {},
     "output_type": "execute_result"
    }
   ],
   "source": [
    "matrix_add(a,b)"
   ]
  },
  {
   "cell_type": "code",
   "execution_count": 45,
   "metadata": {},
   "outputs": [
    {
     "data": {
      "text/plain": [
       "[[64, 44, 66], [64, 44, 66], [64, 44, 66]]"
      ]
     },
     "execution_count": 45,
     "metadata": {},
     "output_type": "execute_result"
    }
   ],
   "source": [
    "## most optium\n",
    "\n",
    "results = [[sum(i * j for i, j in zip(r, c)) for c in zip(*b)] for r in a]\n",
    "\n",
    "results\n"
   ]
  },
  {
   "cell_type": "code",
   "execution_count": 80,
   "metadata": {},
   "outputs": [
    {
     "name": "stdout",
     "output_type": "stream",
     "text": [
      "[[4, 6, 12], [14, 8, 12], [4, 8, 11]]\n",
      "0.0004105567932128906\n"
     ]
    }
   ],
   "source": [
    "#compare (time)\n",
    "\n",
    "import time\n",
    "\n",
    "start_time = time.time()\n",
    "\n",
    "for i in range(len(a)):\n",
    "    for j in range(len(b)):\n",
    "        c[i][j] = a[i][j] + b[i][j]\n",
    "print(c)\n",
    "\n",
    "end_time = time.time()\n",
    "\n",
    "\n",
    "\n",
    "print(end_time-start_time)\n"
   ]
  },
  {
   "cell_type": "code",
   "execution_count": 81,
   "metadata": {},
   "outputs": [
    {
     "name": "stdout",
     "output_type": "stream",
     "text": [
      "[[4, 6, 12], [14, 8, 12], [4, 8, 11]]\n",
      "0.00043892860412597656\n"
     ]
    }
   ],
   "source": [
    "start_time = time.time()\n",
    "\n",
    "result = [[a[i][j] + b[i][j]  for j in range(len(a[0]))] for i in range(len(b))]\n",
    "print(result)\n",
    "\n",
    "end_time = time.time()\n",
    "\n",
    "\n",
    "\n",
    "print(end_time-start_time)\n"
   ]
  },
  {
   "cell_type": "code",
   "execution_count": 90,
   "metadata": {},
   "outputs": [],
   "source": []
  },
  {
   "cell_type": "markdown",
   "metadata": {},
   "source": [
    "# NOTIFICATION (28/02/2024)\n",
    "\n",
    "- Understand the Error\n",
    "- Isolate the Issue\n",
    "- Fix the Error\n"
   ]
  },
  {
   "cell_type": "code",
   "execution_count": 2,
   "metadata": {},
   "outputs": [
    {
     "name": "stdin",
     "output_type": "stream",
     "text": [
      "Are you like to play (y/n) :  y\n",
      "Welcome to Game: Rock - R | Paper - P | Scissors - S | Exit - E:  p\n"
     ]
    },
    {
     "ename": "UnboundLocalError",
     "evalue": "local variable 'user_score' referenced before assignment",
     "output_type": "error",
     "traceback": [
      "\u001b[0;31m---------------------------------------------------------------------------\u001b[0m",
      "\u001b[0;31mUnboundLocalError\u001b[0m                         Traceback (most recent call last)",
      "Cell \u001b[0;32mIn[2], line 95\u001b[0m\n\u001b[1;32m     91\u001b[0m     \u001b[38;5;28mprint\u001b[39m(\u001b[38;5;124mf\u001b[39m\u001b[38;5;124m\"\u001b[39m\u001b[38;5;124mYour Score: \u001b[39m\u001b[38;5;132;01m{\u001b[39;00muser_score\u001b[38;5;132;01m}\u001b[39;00m\u001b[38;5;124m\"\u001b[39m)\n\u001b[1;32m     94\u001b[0m \u001b[38;5;28;01mif\u001b[39;00m \u001b[38;5;18m__name__\u001b[39m \u001b[38;5;241m==\u001b[39m \u001b[38;5;124m\"\u001b[39m\u001b[38;5;124m__main__\u001b[39m\u001b[38;5;124m\"\u001b[39m:\n\u001b[0;32m---> 95\u001b[0m     \u001b[43mplay_game\u001b[49m\u001b[43m(\u001b[49m\u001b[43m)\u001b[49m\n",
      "Cell \u001b[0;32mIn[2], line 88\u001b[0m, in \u001b[0;36mplay_game\u001b[0;34m()\u001b[0m\n\u001b[1;32m     85\u001b[0m     \u001b[38;5;28;01mif\u001b[39;00m user_choice \u001b[38;5;241m==\u001b[39m \u001b[38;5;124m'\u001b[39m\u001b[38;5;124me\u001b[39m\u001b[38;5;124m'\u001b[39m:\n\u001b[1;32m     86\u001b[0m         \u001b[38;5;28;01mbreak\u001b[39;00m\n\u001b[0;32m---> 88\u001b[0m     \u001b[43mcompare\u001b[49m\u001b[43m(\u001b[49m\u001b[43muser_choice\u001b[49m\u001b[43m,\u001b[49m\u001b[43m \u001b[49m\u001b[43mcomputer_choice\u001b[49m\u001b[43m)\u001b[49m\n\u001b[1;32m     90\u001b[0m \u001b[38;5;28mprint\u001b[39m(\u001b[38;5;124mf\u001b[39m\u001b[38;5;124m\"\u001b[39m\u001b[38;5;130;01m\\n\u001b[39;00m\u001b[38;5;124mComputer Score: \u001b[39m\u001b[38;5;132;01m{\u001b[39;00mcomputer_score\u001b[38;5;132;01m}\u001b[39;00m\u001b[38;5;124m\"\u001b[39m)\n\u001b[1;32m     91\u001b[0m \u001b[38;5;28mprint\u001b[39m(\u001b[38;5;124mf\u001b[39m\u001b[38;5;124m\"\u001b[39m\u001b[38;5;124mYour Score: \u001b[39m\u001b[38;5;132;01m{\u001b[39;00muser_score\u001b[38;5;132;01m}\u001b[39;00m\u001b[38;5;124m\"\u001b[39m)\n",
      "Cell \u001b[0;32mIn[2], line 67\u001b[0m, in \u001b[0;36mcompare\u001b[0;34m(user_choice, computer_choice)\u001b[0m\n\u001b[1;32m     64\u001b[0m     \u001b[38;5;28mprint\u001b[39m(\u001b[38;5;124m\"\u001b[39m\u001b[38;5;124mIt\u001b[39m\u001b[38;5;124m'\u001b[39m\u001b[38;5;124ms a tie!\u001b[39m\u001b[38;5;124m\"\u001b[39m)\n\u001b[1;32m     66\u001b[0m \u001b[38;5;28;01melif\u001b[39;00m computer_choice \u001b[38;5;129;01min\u001b[39;00m win_conditions[user_choice]:\n\u001b[0;32m---> 67\u001b[0m     user_score \u001b[38;5;241m+\u001b[39m\u001b[38;5;241m=\u001b[39m \u001b[38;5;241m1\u001b[39m\n\u001b[1;32m     68\u001b[0m     \u001b[38;5;28mprint\u001b[39m(\u001b[38;5;124m\"\u001b[39m\u001b[38;5;124mYou win!\u001b[39m\u001b[38;5;124m\"\u001b[39m)\n\u001b[1;32m     69\u001b[0m \u001b[38;5;28;01melse\u001b[39;00m:\n",
      "\u001b[0;31mUnboundLocalError\u001b[0m: local variable 'user_score' referenced before assignment"
     ]
    }
   ],
   "source": [
    "import random\n",
    "r\n",
    "# Initialize user score and computer score outside functions\n",
    "user_score = 0\n",
    "computer_score = 0\n",
    "\n",
    "\n",
    "def welcome():\n",
    "    \"\"\"\n",
    "    Welcomes the user and prompts them to play or exit.\n",
    "\n",
    "    Returns:\n",
    "        str: \"Y\" if user chooses to play, \"The End\" if they choose to exit.\n",
    "    \"\"\"\n",
    "    while True:\n",
    "        enter_exit = input(\"Are you like to play (y/n) : \").lower()\n",
    "        if enter_exit in ('y', 'n'):\n",
    "            return enter_exit.upper() if enter_exit == 'y' else \"The End\"\n",
    "        else:\n",
    "            print(\"Invalid input. Please enter 'y' to play or 'n' to exit.\")\n",
    "\n",
    "\n",
    "def user_input():\n",
    "    \"\"\"\n",
    "    Prompts the user for their choice and validates the input.\n",
    "\n",
    "    Returns:\n",
    "        str: User's choice (R, P, S, or E)\n",
    "    \"\"\"\n",
    "    while True:\n",
    "        user_choice = input(\"Welcome to Game: Rock - R | Paper - P | Scissors - S | Exit - E: \").lower()\n",
    "        if user_choice in ('r', 'p', 's', 'e'):\n",
    "            return user_choice\n",
    "        else:\n",
    "            print(\"Invalid choice. Please enter R, P, S, or E.\")\n",
    "\n",
    "\n",
    "def computer_choice_gen():\n",
    "    \"\"\"\n",
    "    Generates a random choice for the computer (R, P, or S).\n",
    "\n",
    "    Returns:\n",
    "        str: Computer's choice.\n",
    "    \"\"\"\n",
    "    choices = ('r', 'p', 's')\n",
    "    return random.choice(choices)\n",
    "\n",
    "\n",
    "def compare(user_choice, computer_choice):\n",
    "    \"\"\"\n",
    "    Compares the user's choice with the computer's choice and updates scores.\n",
    "\n",
    "    Args:\n",
    "        user_choice: User's choice (R, P, or S).\n",
    "        computer_choice: Computer's choice (R, P, or S).\n",
    "    \"\"\"\n",
    "    win_conditions = {\n",
    "        'r': ('p',),\n",
    "        'p': ('s',),\n",
    "        's': ('r',),\n",
    "    }\n",
    "\n",
    "    if user_choice == computer_choice:\n",
    "        print(\"It's a tie!\")\n",
    "\n",
    "    elif computer_choice in win_conditions[user_choice]:\n",
    "        user_score += 1\n",
    "        print(\"You win!\")\n",
    "    else:\n",
    "        computer_score += 1\n",
    "        print(\"Computer wins!\")\n",
    "\n",
    "\n",
    "def play_game():\n",
    "    \"\"\"\n",
    "    Main game loop.\n",
    "    \"\"\"\n",
    "    welcome_message = welcome()\n",
    "    if welcome_message == \"The End\":\n",
    "        return\n",
    "\n",
    "    while True:\n",
    "        computer_choice = computer_choice_gen()\n",
    "        user_choice = user_input()\n",
    "        if user_choice == 'e':\n",
    "            break\n",
    "\n",
    "        compare(user_choice, computer_choice)\n",
    "\n",
    "    print(f\"\\nComputer Score: {computer_score}\")\n",
    "    print(f\"Your Score: {user_score}\")\n",
    "\n",
    "\n",
    "if __name__ == \"__main__\":\n",
    "    play_game()\n",
    "\n"
   ]
  },
  {
   "cell_type": "code",
   "execution_count": 3,
   "metadata": {},
   "outputs": [
    {
     "name": "stdout",
     "output_type": "stream",
     "text": [
      "\n",
      "    Main game loop.\n",
      "    \n"
     ]
    }
   ],
   "source": [
    "print(play_game.__doc__)"
   ]
  },
  {
   "cell_type": "code",
   "execution_count": 32,
   "metadata": {},
   "outputs": [
    {
     "name": "stdout",
     "output_type": "stream",
     "text": [
      "hello\n",
      "0.000348568893969059\n"
     ]
    }
   ],
   "source": [
    "from time import *\n",
    "\n",
    "start = perf_counter()\n",
    "\n",
    "print(\"hello\")\n",
    "\n",
    "print(perf_counter()-start)"
   ]
  },
  {
   "cell_type": "code",
   "execution_count": 34,
   "metadata": {},
   "outputs": [
    {
     "name": "stdout",
     "output_type": "stream",
     "text": [
      " 10,000,000\n"
     ]
    }
   ],
   "source": [
    "print(f\"{10**7 : ,}\")\n"
   ]
  },
  {
   "cell_type": "code",
   "execution_count": null,
   "metadata": {},
   "outputs": [],
   "source": []
  }
 ],
 "metadata": {
  "kernelspec": {
   "display_name": "Python 3",
   "language": "python",
   "name": "python3"
  },
  "language_info": {
   "codemirror_mode": {
    "name": "ipython",
    "version": 3
   },
   "file_extension": ".py",
   "mimetype": "text/x-python",
   "name": "python",
   "nbconvert_exporter": "python",
   "pygments_lexer": "ipython3",
   "version": "3.8.5"
  }
 },
 "nbformat": 4,
 "nbformat_minor": 4
}
