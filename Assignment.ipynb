{
 "cells": [
  {
   "cell_type": "markdown",
   "metadata": {},
   "source": [
    "##  FOR LOOP AND IF STATEMENT"
   ]
  },
  {
   "cell_type": "markdown",
   "metadata": {},
   "source": [
    "#### 1. Write a program to print the numbers divisible by 7 and lying between the given limits."
   ]
  },
  {
   "cell_type": "code",
   "execution_count": 5,
   "metadata": {},
   "outputs": [],
   "source": [
    "def div_7(a,b):\n",
    "    for limit in range(a,b+1):\n",
    "        if limit%7 ==0:\n",
    "            print(f\"{limit} is Divisible by Number 7 \")"
   ]
  },
  {
   "cell_type": "code",
   "execution_count": 6,
   "metadata": {},
   "outputs": [
    {
     "name": "stdout",
     "output_type": "stream",
     "text": [
      "7 is Divisible by Number 7 \n",
      "14 is Divisible by Number 7 \n",
      "21 is Divisible by Number 7 \n",
      "28 is Divisible by Number 7 \n"
     ]
    }
   ],
   "source": [
    "a = 2\n",
    "b = 32\n",
    "div_7(a,b)"
   ]
  },
  {
   "cell_type": "markdown",
   "metadata": {},
   "source": [
    "#### 2. Write a program to print the hollow box by getting the size of the box from the user."
   ]
  },
  {
   "cell_type": "code",
   "execution_count": 7,
   "metadata": {},
   "outputs": [],
   "source": [
    "def hollow(rows,columns):\n",
    "    for row in range(1,rows+1):\n",
    "        for column in range(1,columns+1):\n",
    "            if row==1 or row==rows or column ==1 or column == columns:\n",
    "                print(\"*\",end=\"\")\n",
    "            else:\n",
    "                print(\" \",end=\"\")\n",
    "        print()"
   ]
  },
  {
   "cell_type": "code",
   "execution_count": 9,
   "metadata": {},
   "outputs": [
    {
     "name": "stdin",
     "output_type": "stream",
     "text": [
      "rows = ? : 5\n",
      "columns = ? : 5\n"
     ]
    },
    {
     "name": "stdout",
     "output_type": "stream",
     "text": [
      "*****\n",
      "*   *\n",
      "*   *\n",
      "*   *\n",
      "*****\n"
     ]
    }
   ],
   "source": [
    "rows = int(input(\"rows = ? :\"))\n",
    "columns = int(input(\"columns = ? :\"))\n",
    "hollow(rows,columns)"
   ]
  },
  {
   "cell_type": "markdown",
   "metadata": {},
   "source": [
    "#### 3. Write a program to find the sum of odd and even numbers within a set of limits."
   ]
  },
  {
   "cell_type": "code",
   "execution_count": 10,
   "metadata": {},
   "outputs": [],
   "source": [
    "def sum_odd_and_even(a,b):\n",
    "    sum_odd = 0\n",
    "    sum_even = 0\n",
    "    for i in range(a,b+1):\n",
    "        if i%2==0:\n",
    "            sum_even += i\n",
    "        else:\n",
    "            sum_odd += i\n",
    "    return f\" sum even = {sum_even}, sum odd = {sum_odd}\""
   ]
  },
  {
   "cell_type": "code",
   "execution_count": 11,
   "metadata": {},
   "outputs": [
    {
     "data": {
      "text/plain": [
       "' sum even = 36, sum odd = 39'"
      ]
     },
     "execution_count": 11,
     "metadata": {},
     "output_type": "execute_result"
    }
   ],
   "source": [
    "a = 10\n",
    "b = 15\n",
    "sum_odd_and_even(a,b)"
   ]
  },
  {
   "cell_type": "markdown",
   "metadata": {},
   "source": [
    "#### 4. Write a program to check whether the given number is prime or not."
   ]
  },
  {
   "cell_type": "code",
   "execution_count": 12,
   "metadata": {},
   "outputs": [],
   "source": [
    "def check_prime(num):\n",
    "    flag = False\n",
    "    if num == 1:\n",
    "        print(f\"{num} is not prime number\")\n",
    "    elif num > 1:\n",
    "        for i in range(2,num):\n",
    "            if num % i == 0:\n",
    "                flag = True\n",
    "                break\n",
    "        if flag:\n",
    "            print(f\"{num} is not prime number\")\n",
    "        else:\n",
    "            print(f\"{num} is  prime number\")\n",
    "            "
   ]
  },
  {
   "cell_type": "code",
   "execution_count": 13,
   "metadata": {},
   "outputs": [
    {
     "name": "stdout",
     "output_type": "stream",
     "text": [
      "10 is not prime number\n"
     ]
    }
   ],
   "source": [
    "num = 10\n",
    "check_prime(num)"
   ]
  },
  {
   "cell_type": "markdown",
   "metadata": {},
   "source": [
    "#### 5. Write a program to generate prime numbers within a set of limits."
   ]
  },
  {
   "cell_type": "code",
   "execution_count": 14,
   "metadata": {},
   "outputs": [],
   "source": [
    "def is_prime(num):\n",
    "    if num < 2:\n",
    "        return False\n",
    "    for i in range(2, int(num**0.5) + 1):\n",
    "        if num % i == 0:\n",
    "            return False\n",
    "    return True\n",
    "\n",
    "def generate_primes(a, b):\n",
    "    prime_lst = [num for num in range(a, b + 1) if is_prime(num)]\n",
    "    return prime_lst"
   ]
  },
  {
   "cell_type": "code",
   "execution_count": 15,
   "metadata": {},
   "outputs": [
    {
     "name": "stdout",
     "output_type": "stream",
     "text": [
      "[11, 13, 17, 19, 23, 29]\n"
     ]
    }
   ],
   "source": [
    "a = 10\n",
    "b = 30\n",
    "print(generate_primes(a, b))"
   ]
  },
  {
   "cell_type": "markdown",
   "metadata": {},
   "source": [
    "#### 6. Write a Program to print the Prime Series upto n terms."
   ]
  },
  {
   "cell_type": "code",
   "execution_count": 16,
   "metadata": {},
   "outputs": [
    {
     "name": "stdout",
     "output_type": "stream",
     "text": [
      "[2, 3, 5, 7, 11, 13, 17, 19, 23, 29, 31, 37, 41, 43, 47, 53, 59, 61, 67, 71, 73, 79, 83, 89, 97, 101, 103, 107, 109, 113, 127, 131, 137, 139, 149, 151, 157, 163, 167, 173, 179, 181, 191, 193, 197, 199]\n"
     ]
    }
   ],
   "source": [
    "def prime_series(n):\n",
    "    prime_lst = [num for num in range(n + 1) if is_prime(num)]\n",
    "    return prime_lst\n",
    "\n",
    "n = 200\n",
    "print(prime_series(n))"
   ]
  },
  {
   "cell_type": "markdown",
   "metadata": {},
   "source": [
    "#### 7. Write a program to print the twin primes between the given limits. Two consecutive odd numbers that are prime are called twin primes"
   ]
  },
  {
   "cell_type": "code",
   "execution_count": 17,
   "metadata": {},
   "outputs": [],
   "source": [
    "def generate_twin_primes(start, end):\n",
    "    twin_primes = []\n",
    "    for num in range(start, end + 1):\n",
    "        if is_prime(num) and is_prime(num + 2):\n",
    "            twin_primes.append((num, num + 2))\n",
    "    return twin_primes"
   ]
  },
  {
   "cell_type": "code",
   "execution_count": 18,
   "metadata": {},
   "outputs": [
    {
     "name": "stdout",
     "output_type": "stream",
     "text": [
      "Twin primes between 10 and 50 are:\n",
      "[(11, 13), (17, 19), (29, 31), (41, 43)]\n"
     ]
    }
   ],
   "source": [
    "start_limit = 10\n",
    "end_limit = 50\n",
    "print(\"Twin primes between\", start_limit, \"and\", end_limit, \"are:\")\n",
    "print(generate_twin_primes(start_limit, end_limit))"
   ]
  },
  {
   "cell_type": "markdown",
   "metadata": {},
   "source": [
    "#### 8. Write a program to find the sum of the series (1+3+5...n terms)"
   ]
  },
  {
   "cell_type": "code",
   "execution_count": 19,
   "metadata": {},
   "outputs": [],
   "source": [
    "def sum_odd_terms(n):\n",
    "    lst = []\n",
    "    for i in range(1,n+1,2):\n",
    "        lst.append(i)\n",
    "    return sum(lst)      \n",
    "    "
   ]
  },
  {
   "cell_type": "code",
   "execution_count": 20,
   "metadata": {},
   "outputs": [
    {
     "data": {
      "text/plain": [
       "100"
      ]
     },
     "execution_count": 20,
     "metadata": {},
     "output_type": "execute_result"
    }
   ],
   "source": [
    "sum_odd_terms(20)"
   ]
  },
  {
   "cell_type": "markdown",
   "metadata": {},
   "source": [
    "#### 9. Write a program to find the sum of the series (1/3+2/5+3/7...n terms)"
   ]
  },
  {
   "cell_type": "code",
   "execution_count": 21,
   "metadata": {},
   "outputs": [],
   "source": [
    "def sum_fac_series(n):\n",
    "    lst = []\n",
    "    for i in range(1,n+1):\n",
    "        num = i/i+2\n",
    "        lst.append(num)\n",
    "    return int(sum(lst))        "
   ]
  },
  {
   "cell_type": "code",
   "execution_count": 22,
   "metadata": {},
   "outputs": [
    {
     "data": {
      "text/plain": [
       "30"
      ]
     },
     "execution_count": 22,
     "metadata": {},
     "output_type": "execute_result"
    }
   ],
   "source": [
    "sum_fac_series(10)"
   ]
  },
  {
   "cell_type": "markdown",
   "metadata": {},
   "source": [
    "#### 10. Write a program to find the sum of the series (x-x3+x5-x7......n terms)"
   ]
  },
  {
   "cell_type": "code",
   "execution_count": 41,
   "metadata": {},
   "outputs": [],
   "source": [
    "def sum_series(x,n):\n",
    "    lst = []\n",
    "    sign = 1\n",
    "    for i in range(1,n+1,2):\n",
    "        num = sign * (x**i)\n",
    "        sign *= -1\n",
    "        lst.append(num)\n",
    "    return sum(lst)"
   ]
  },
  {
   "cell_type": "code",
   "execution_count": 42,
   "metadata": {},
   "outputs": [
    {
     "data": {
      "text/plain": [
       "-6710886"
      ]
     },
     "execution_count": 42,
     "metadata": {},
     "output_type": "execute_result"
    }
   ],
   "source": [
    "sum_series(2,23)"
   ]
  },
  {
   "cell_type": "markdown",
   "metadata": {},
   "source": [
    "#### 11. Write a program to find the sine series  (x – x3/3! + x5/5! - x7/7! + ......... n terms) x to be taken as radians."
   ]
  },
  {
   "cell_type": "code",
   "execution_count": 25,
   "metadata": {},
   "outputs": [],
   "source": [
    "import math\n",
    "\n",
    "def sine_series(x, n):\n",
    "    sine = 0\n",
    "    sign = 1\n",
    "    for i in range(1, n*2+1, 2):\n",
    "        term = sign * (x ** i) / math.factorial(i)\n",
    "        sine += term\n",
    "        sign *= -1\n",
    "    return sine"
   ]
  },
  {
   "cell_type": "code",
   "execution_count": 26,
   "metadata": {},
   "outputs": [
    {
     "data": {
      "text/plain": [
       "0.14112000785871492"
      ]
     },
     "execution_count": 26,
     "metadata": {},
     "output_type": "execute_result"
    }
   ],
   "source": [
    "sine_series(3, 10)"
   ]
  },
  {
   "cell_type": "markdown",
   "metadata": {},
   "source": [
    "## WHILE LOOP"
   ]
  },
  {
   "cell_type": "markdown",
   "metadata": {},
   "source": [
    "#### 1. Write a program to find the reverse of a given number and hence to check whether it is a palindrome number or not."
   ]
  },
  {
   "cell_type": "code",
   "execution_count": 27,
   "metadata": {},
   "outputs": [],
   "source": [
    "def reverse_number(n):\n",
    "    reverse = 0\n",
    "    original = n\n",
    "    while n > 0:\n",
    "        digit = n % 10\n",
    "        reverse = reverse * 10 + digit\n",
    "        n //= 10\n",
    "    return reverse, reverse == original"
   ]
  },
  {
   "cell_type": "code",
   "execution_count": 28,
   "metadata": {},
   "outputs": [
    {
     "name": "stdin",
     "output_type": "stream",
     "text": [
      "Enter a number:  23432\n"
     ]
    },
    {
     "name": "stdout",
     "output_type": "stream",
     "text": [
      "The number is a palindrome.\n"
     ]
    }
   ],
   "source": [
    "number = int(input(\"Enter a number: \"))\n",
    "reversed_number, is_palindrome = reverse_number(number)\n",
    "if is_palindrome:\n",
    "    print(\"The number is a palindrome.\")\n",
    "else:\n",
    "    print(\"The reverse of the number is:\", reversed_number)\n",
    "    print(\"The number is not a palindrome.\")"
   ]
  },
  {
   "cell_type": "markdown",
   "metadata": {},
   "source": [
    "#### 2. Write a program to print the next prime number. If user input is 8/9/10, you must print 11."
   ]
  },
  {
   "cell_type": "code",
   "execution_count": 29,
   "metadata": {},
   "outputs": [],
   "source": [
    "def is_prime(num):\n",
    "    if num < 2:\n",
    "        return False\n",
    "    for i in range(2, int(num**0.5) + 1):\n",
    "        if num % i == 0:\n",
    "            return False\n",
    "    return True\n",
    "\n",
    "def next_prime(num):\n",
    "    next_num = num + 1\n",
    "    while True:\n",
    "        if is_prime(next_num):\n",
    "            return next_num\n",
    "        next_num += 1"
   ]
  },
  {
   "cell_type": "code",
   "execution_count": 30,
   "metadata": {},
   "outputs": [
    {
     "name": "stdin",
     "output_type": "stream",
     "text": [
      "Enter a number:  12\n"
     ]
    },
    {
     "name": "stdout",
     "output_type": "stream",
     "text": [
      "The next prime number after 12 is: 13\n"
     ]
    }
   ],
   "source": [
    "user_input = int(input(\"Enter a number: \"))\n",
    "print(\"The next prime number after\", user_input, \"is:\", next_prime(user_input))"
   ]
  },
  {
   "cell_type": "markdown",
   "metadata": {},
   "source": [
    "#### 3. Write a program to previous prime number."
   ]
  },
  {
   "cell_type": "code",
   "execution_count": 31,
   "metadata": {},
   "outputs": [],
   "source": [
    "def is_prime(num):\n",
    "    if num < 2:\n",
    "        return False\n",
    "    for i in range(2, int(num**0.5) + 1):\n",
    "        if num % i == 0:\n",
    "            return False\n",
    "    return True\n",
    "\n",
    "def previous_prime(num):\n",
    "    previous_num = num - 1\n",
    "    while True:\n",
    "        if is_prime(previous_num):\n",
    "            return previous_num\n",
    "        previous_num -= 1"
   ]
  },
  {
   "cell_type": "code",
   "execution_count": 33,
   "metadata": {},
   "outputs": [
    {
     "name": "stdin",
     "output_type": "stream",
     "text": [
      "Enter a number:  12\n"
     ]
    },
    {
     "name": "stdout",
     "output_type": "stream",
     "text": [
      "The previous prime number before 12 is: 11\n"
     ]
    }
   ],
   "source": [
    "user_input = int(input(\"Enter a number: \"))\n",
    "print(\"The previous prime number before\", user_input, \"is:\", previous_prime(user_input))"
   ]
  },
  {
   "cell_type": "markdown",
   "metadata": {},
   "source": [
    "#### 4. Write a program to check whether a given number is Armstrong or not."
   ]
  },
  {
   "cell_type": "code",
   "execution_count": 34,
   "metadata": {},
   "outputs": [],
   "source": [
    "def is_armstrong(num):\n",
    "    temp = num\n",
    "    num_digits = len(str(num))\n",
    "    armstrong_sum = 0\n",
    "    while temp > 0:\n",
    "        digit = temp % 10\n",
    "        armstrong_sum += digit ** num_digits\n",
    "        temp //= 10\n",
    "    return armstrong_sum == num"
   ]
  },
  {
   "cell_type": "code",
   "execution_count": 35,
   "metadata": {},
   "outputs": [
    {
     "name": "stdin",
     "output_type": "stream",
     "text": [
      "Enter a number:  12\n"
     ]
    },
    {
     "name": "stdout",
     "output_type": "stream",
     "text": [
      "The number is not an Armstrong number.\n"
     ]
    }
   ],
   "source": [
    "number = int(input(\"Enter a number: \"))\n",
    "if is_armstrong(number):\n",
    "    print(\"The number is an Armstrong number.\")\n",
    "else:\n",
    "    print(\"The number is not an Armstrong number.\")"
   ]
  },
  {
   "cell_type": "markdown",
   "metadata": {},
   "source": [
    "#### 5. Write a program to generate all the Armstrong number within a range."
   ]
  },
  {
   "cell_type": "code",
   "execution_count": 36,
   "metadata": {},
   "outputs": [],
   "source": [
    "def generate_armstrong_numbers(start, end):\n",
    "    armstrong_numbers = []\n",
    "    for num in range(start, end + 1):\n",
    "        if is_armstrong(num):\n",
    "            armstrong_numbers.append(num)\n",
    "    return armstrong_numbers"
   ]
  },
  {
   "cell_type": "code",
   "execution_count": 37,
   "metadata": {},
   "outputs": [
    {
     "name": "stdin",
     "output_type": "stream",
     "text": [
      "Enter the start of the range:  34\n",
      "Enter the end of the range:  39\n"
     ]
    },
    {
     "name": "stdout",
     "output_type": "stream",
     "text": [
      "Armstrong numbers between 34 and 39 are:\n",
      "[]\n"
     ]
    }
   ],
   "source": [
    "start_range = int(input(\"Enter the start of the range: \"))\n",
    "end_range = int(input(\"Enter the end of the range: \"))\n",
    "print(\"Armstrong numbers between\", start_range, \"and\", end_range, \"are:\")\n",
    "print(generate_armstrong_numbers(start_range, end_range))"
   ]
  },
  {
   "cell_type": "code",
   "execution_count": null,
   "metadata": {},
   "outputs": [],
   "source": []
  }
 ],
 "metadata": {
  "kernelspec": {
   "display_name": "Python 3",
   "language": "python",
   "name": "python3"
  },
  "language_info": {
   "codemirror_mode": {
    "name": "ipython",
    "version": 3
   },
   "file_extension": ".py",
   "mimetype": "text/x-python",
   "name": "python",
   "nbconvert_exporter": "python",
   "pygments_lexer": "ipython3",
   "version": "3.8.5"
  }
 },
 "nbformat": 4,
 "nbformat_minor": 4
}
